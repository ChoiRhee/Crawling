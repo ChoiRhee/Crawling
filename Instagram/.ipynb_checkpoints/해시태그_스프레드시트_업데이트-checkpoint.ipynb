{
 "cells": [
  {
   "cell_type": "code",
   "execution_count": 3,
   "id": "ff6381e2",
   "metadata": {},
   "outputs": [],
   "source": [
    "import requests\n",
    "from bs4 import BeautifulSoup\n",
    "from selenium import webdriver\n",
    "from selenium.webdriver.common.keys import Keys\n",
    "from time import sleep\n",
    "import time\n",
    "import re\n",
    "import pandas as pd\n",
    "from urllib.request import urlopen\n",
    "from urllib.parse import quote_plus"
   ]
  },
  {
   "cell_type": "code",
   "execution_count": 38,
   "id": "4d038cee",
   "metadata": {},
   "outputs": [],
   "source": [
    "def insta_searching(word):\n",
    "    url = \"https://www.instagram.com/explore/tags/\" + word\n",
    "    return url\n",
    "\n",
    "def instagram_login():\n",
    "\n",
    "    # 개인정보 보호 오류 창... \n",
    "    driver.find_element_by_css_selector('#details-button').click(); time.sleep(1)\n",
    "    driver.find_element_by_css_selector('#proceed-link').click(); time.sleep(2)\n",
    "    # 로그인\n",
    "    driver.find_element_by_xpath('//*[@id=\"loginForm\"]/div/div[1]/div/label/input').send_keys('rchoi_19_42')\n",
    "    driver.find_element_by_xpath('//*[@id=\"loginForm\"]/div/div[2]/div/label/input').send_keys('chlfl1942')\n",
    "    driver.find_element_by_xpath('//*[@id=\"loginForm\"]/div/div[3]/button/div').click()\n",
    "    time.sleep(3)\n",
    "    # 로그인 정보 저장 (나중에 하기)\n",
    "    driver.find_element_by_xpath('//*[@id=\"react-root\"]/section/main/div/div/div/div/button').click()\n",
    "    time.sleep(3) \n",
    "    # 알림설정 (나중에 하기)\n",
    "    driver.find_element_by_xpath('/html/body/div[5]/div/div/div/div[3]/button[2]').click()\n",
    "    time.sleep(3)\n",
    "\n",
    "# 첫게시물 보기\n",
    "def select_first(driver):\n",
    "    first = driver.find_element_by_css_selector(\"div._9AhH0\")\n",
    "    first.click()\n",
    "    time.sleep(3)\n",
    "\n",
    "# 다음게시글\n",
    "def move_next(driver):\n",
    "    right = driver.find_element_by_css_selector ('a.coreSpriteRightPaginationArrow')\n",
    "    right.click()\n",
    "    time.sleep(3)\n",
    "\n",
    "# 내용 훔쳐오기\n",
    "def get_content(driver):\n",
    "    html = driver.page_source\n",
    "    soup = BeautifulSoup(html, 'lxml')\n",
    "    \n",
    "    try:\n",
    "        content = soup.select('div.C4VMK > span')[0].text\n",
    "    except:\n",
    "        content = ' '\n",
    "        \n",
    "    # 해시태그 > 정규표현식\n",
    "    tags = re.findall(r'#[^\\s#,\\\\]+', content) \n",
    "    # 작성일자\n",
    "    date = soup.select('time._1o9PC.Nzb55')[0]['datetime'][:10]\n",
    "    # 좋아요 수\n",
    "    try:\n",
    "        like = soup.select('a.zV_Nj')[0].text[4:-1]   \n",
    "    except:\n",
    "        like = 0\n",
    "    # 위치정보\n",
    "    try: \n",
    "        place = soup.select('div.M30cS')[0].text\n",
    "    except:\n",
    "        place = ''\n",
    "    # 리스트로 저장\n",
    "    data = [content, date, like, place, tags]\n",
    "    return data"
   ]
  },
  {
   "cell_type": "code",
   "execution_count": 46,
   "id": "a10c4cfa",
   "metadata": {},
   "outputs": [],
   "source": [
    "driver = webdriver.Chrome(\"chromedriver.exe\")\n",
    "driver.get('https://www.instargram.com')\n",
    "\n",
    "instagram_login() \n",
    "\n",
    "# 검색결과\n",
    "driver.get(insta_searching('일기'))\n",
    "time.sleep(4)\n",
    "\n",
    "# 검색결과물 개수만큼 크롤링\n",
    "target_temp = driver.find_element_by_xpath('//*[@id=\"react-root\"]/section/main/header/div[2]/div/div[2]/span/span').text\n",
    "target = int(target_temp.replace(',', ''))\n",
    "time.sleep(3)\n",
    "\n",
    "select_first(driver)\n",
    "results = [ ]\n",
    "\n",
    "for i in range(target):\n",
    "    # 수집 오류 > 2초 대기\n",
    "    try:\n",
    "        data = get_content(driver)    # 게시글 정보\n",
    "        results.append(data)\n",
    "        move_next(driver)\n",
    "    except:\n",
    "        time.sleep(2)\n",
    "        move_next(driver)\n",
    "\n",
    "driver.close()"
   ]
  },
  {
   "cell_type": "code",
   "execution_count": null,
   "id": "450960e1",
   "metadata": {},
   "outputs": [],
   "source": [
    "df = pd.DataFrame(results)\n",
    "df.columns = ['content','data','like','place','tags']\n",
    "\n",
    "#df.to_excel('일기 해시태그.xlsx', index=False) "
   ]
  },
  {
   "cell_type": "markdown",
   "id": "35c9fc03",
   "metadata": {},
   "source": [
    "---\n",
    "# 스프레드시트 연동\n",
    "---"
   ]
  },
  {
   "cell_type": "code",
   "execution_count": 61,
   "id": "c525c2b6",
   "metadata": {
    "collapsed": true
   },
   "outputs": [
    {
     "name": "stdout",
     "output_type": "stream",
     "text": [
      "Collecting oauth2client\n",
      "  Downloading oauth2client-4.1.3-py2.py3-none-any.whl (98 kB)\n",
      "Collecting rsa>=3.1.4\n",
      "  Downloading rsa-4.7.2-py3-none-any.whl (34 kB)\n",
      "Collecting httplib2>=0.9.1\n",
      "  Downloading httplib2-0.19.1-py3-none-any.whl (95 kB)\n",
      "Requirement already satisfied: six>=1.6.1 in c:\\users\\fc\\anaconda3\\lib\\site-packages (from oauth2client) (1.15.0)\n",
      "Collecting pyasn1>=0.1.7\n",
      "  Downloading pyasn1-0.4.8-py2.py3-none-any.whl (77 kB)\n",
      "Collecting pyasn1-modules>=0.0.5\n",
      "  Downloading pyasn1_modules-0.2.8-py2.py3-none-any.whl (155 kB)\n",
      "Requirement already satisfied: pyparsing<3,>=2.4.2 in c:\\users\\fc\\anaconda3\\lib\\site-packages (from httplib2>=0.9.1->oauth2client) (2.4.7)\n",
      "Installing collected packages: pyasn1, rsa, pyasn1-modules, httplib2, oauth2client\n",
      "Successfully installed httplib2-0.19.1 oauth2client-4.1.3 pyasn1-0.4.8 pyasn1-modules-0.2.8 rsa-4.7.2\n",
      "Note: you may need to restart the kernel to use updated packages.\n"
     ]
    }
   ],
   "source": [
    "pip install --upgrade oauth2client"
   ]
  },
  {
   "cell_type": "code",
   "execution_count": 62,
   "id": "de4c4263",
   "metadata": {
    "collapsed": true
   },
   "outputs": [
    {
     "name": "stdout",
     "output_type": "stream",
     "text": [
      "Collecting gspread\n",
      "  Downloading gspread-4.0.1-py3-none-any.whl (29 kB)\n",
      "Collecting google-auth-oauthlib>=0.4.1\n",
      "  Downloading google_auth_oauthlib-0.4.5-py2.py3-none-any.whl (18 kB)\n",
      "Collecting google-auth>=1.12.0\n",
      "  Downloading google_auth-2.0.1-py2.py3-none-any.whl (152 kB)\n",
      "Collecting cachetools<5.0,>=2.0.0\n",
      "  Downloading cachetools-4.2.2-py3-none-any.whl (11 kB)\n",
      "Requirement already satisfied: setuptools>=40.3.0 in c:\\users\\fc\\anaconda3\\lib\\site-packages (from google-auth>=1.12.0->gspread) (52.0.0.post20210125)\n",
      "Requirement already satisfied: rsa<5,>=3.1.4 in c:\\users\\fc\\anaconda3\\lib\\site-packages (from google-auth>=1.12.0->gspread) (4.7.2)\n",
      "Requirement already satisfied: pyasn1-modules>=0.2.1 in c:\\users\\fc\\anaconda3\\lib\\site-packages (from google-auth>=1.12.0->gspread) (0.2.8)\n",
      "Collecting requests-oauthlib>=0.7.0\n",
      "  Downloading requests_oauthlib-1.3.0-py2.py3-none-any.whl (23 kB)\n",
      "Requirement already satisfied: pyasn1<0.5.0,>=0.4.6 in c:\\users\\fc\\anaconda3\\lib\\site-packages (from pyasn1-modules>=0.2.1->google-auth>=1.12.0->gspread) (0.4.8)\n",
      "Collecting oauthlib>=3.0.0\n",
      "  Downloading oauthlib-3.1.1-py2.py3-none-any.whl (146 kB)\n",
      "Requirement already satisfied: requests>=2.0.0 in c:\\users\\fc\\anaconda3\\lib\\site-packages (from requests-oauthlib>=0.7.0->google-auth-oauthlib>=0.4.1->gspread) (2.25.1)\n",
      "Requirement already satisfied: idna<3,>=2.5 in c:\\users\\fc\\anaconda3\\lib\\site-packages (from requests>=2.0.0->requests-oauthlib>=0.7.0->google-auth-oauthlib>=0.4.1->gspread) (2.10)\n",
      "Requirement already satisfied: chardet<5,>=3.0.2 in c:\\users\\fc\\anaconda3\\lib\\site-packages (from requests>=2.0.0->requests-oauthlib>=0.7.0->google-auth-oauthlib>=0.4.1->gspread) (4.0.0)\n",
      "Requirement already satisfied: urllib3<1.27,>=1.21.1 in c:\\users\\fc\\anaconda3\\lib\\site-packages (from requests>=2.0.0->requests-oauthlib>=0.7.0->google-auth-oauthlib>=0.4.1->gspread) (1.26.4)\n",
      "Requirement already satisfied: certifi>=2017.4.17 in c:\\users\\fc\\anaconda3\\lib\\site-packages (from requests>=2.0.0->requests-oauthlib>=0.7.0->google-auth-oauthlib>=0.4.1->gspread) (2020.12.5)\n",
      "Installing collected packages: oauthlib, cachetools, requests-oauthlib, google-auth, google-auth-oauthlib, gspread\n",
      "Successfully installed cachetools-4.2.2 google-auth-2.0.1 google-auth-oauthlib-0.4.5 gspread-4.0.1 oauthlib-3.1.1 requests-oauthlib-1.3.0\n",
      "Note: you may need to restart the kernel to use updated packages.\n"
     ]
    }
   ],
   "source": [
    "pip install gspread"
   ]
  },
  {
   "cell_type": "code",
   "execution_count": 63,
   "id": "78ce9a62",
   "metadata": {
    "collapsed": true
   },
   "outputs": [
    {
     "name": "stdout",
     "output_type": "stream",
     "text": [
      "Requirement already satisfied: PyOpenSSL in c:\\users\\fc\\anaconda3\\lib\\site-packages (20.0.1)\n",
      "Requirement already satisfied: six>=1.5.2 in c:\\users\\fc\\anaconda3\\lib\\site-packages (from PyOpenSSL) (1.15.0)\n",
      "Requirement already satisfied: cryptography>=3.2 in c:\\users\\fc\\anaconda3\\lib\\site-packages (from PyOpenSSL) (3.4.7)\n",
      "Requirement already satisfied: cffi>=1.12 in c:\\users\\fc\\anaconda3\\lib\\site-packages (from cryptography>=3.2->PyOpenSSL) (1.14.5)\n",
      "Requirement already satisfied: pycparser in c:\\users\\fc\\anaconda3\\lib\\site-packages (from cffi>=1.12->cryptography>=3.2->PyOpenSSL) (2.20)\n",
      "Note: you may need to restart the kernel to use updated packages.\n"
     ]
    }
   ],
   "source": [
    "pip install PyOpenSSL"
   ]
  },
  {
   "cell_type": "code",
   "execution_count": 69,
   "id": "25b21171",
   "metadata": {
    "scrolled": false
   },
   "outputs": [],
   "source": [
    "import gspread\n",
    "from oauth2client.service_account import ServiceAccountCredentials\n",
    "\n",
    "scope = [\n",
    "    'https://spreadsheets.google.com/feeds',\n",
    "    'https://www.googleapis.com/auth/drive',\n",
    "]\n",
    "\n",
    "\n",
    "json_file_name = 'iron-figure-305813-3e85257bcb3a.json'\n",
    "\n",
    "credentials = ServiceAccountCredentials.from_json_keyfile_name(json_file_name, scope)\n",
    "gc = gspread.authorize(credentials)\n",
    "\n",
    "spreadsheet_url = 'https://docs.google.com/spreadsheets/d/153tefpUd5JMxR7iWw3HtPW1zzsdruo9yAQgVxi9Boo0/edit#gid=0'\n",
    "\n",
    "# 스프레스시트 문서 가져오기 \n",
    "doc = gc.open_by_url(spreadsheet_url)\n",
    "\n",
    "# 시트 선택하기\n",
    "worksheet = doc.worksheet('일기')"
   ]
  },
  {
   "cell_type": "markdown",
   "id": "1959d8e4",
   "metadata": {},
   "source": [
    "## 데이터 가져오기"
   ]
  },
  {
   "cell_type": "code",
   "execution_count": 70,
   "id": "7835aef1",
   "metadata": {},
   "outputs": [
    {
     "name": "stdout",
     "output_type": "stream",
     "text": [
      "content\n"
     ]
    }
   ],
   "source": [
    "# 특정 셀 가져오기\n",
    "cell_data = worksheet.acell('A1').value\n",
    "print(cell_data)"
   ]
  },
  {
   "cell_type": "code",
   "execution_count": 71,
   "id": "cfa92e6d",
   "metadata": {},
   "outputs": [
    {
     "name": "stdout",
     "output_type": "stream",
     "text": [
      "['content', 'data', 'like', 'place', 'tags']\n"
     ]
    }
   ],
   "source": [
    "# 행 데이터 가져오기\n",
    "row_data = worksheet.row_values(1)\n",
    "print(row_data)"
   ]
  },
  {
   "cell_type": "code",
   "execution_count": 72,
   "id": "d9a1d842",
   "metadata": {},
   "outputs": [
    {
     "name": "stdout",
     "output_type": "stream",
     "text": [
      "['content']\n"
     ]
    }
   ],
   "source": [
    "# 열 데이터 가져오기\n",
    "column_data = worksheet.col_values(1)\n",
    "print(column_data)"
   ]
  },
  {
   "cell_type": "code",
   "execution_count": 73,
   "id": "39dec5c9",
   "metadata": {},
   "outputs": [
    {
     "name": "stdout",
     "output_type": "stream",
     "text": [
      "[<Cell R1C1 'content'>, <Cell R1C2 'data'>, <Cell R1C3 'like'>]\n",
      "content\n",
      "data\n",
      "like\n"
     ]
    }
   ],
   "source": [
    "# 특정 영역 선택해 가져오기\n",
    "range_list = worksheet.range('A1:C1')\n",
    "print(range_list)\n",
    "\n",
    "for cell in range_list:\n",
    "    print(cell.value)"
   ]
  },
  {
   "cell_type": "markdown",
   "id": "e5ecd359",
   "metadata": {},
   "source": [
    "## 데이터 쓰기"
   ]
  },
  {
   "cell_type": "code",
   "execution_count": 74,
   "id": "6204b482",
   "metadata": {},
   "outputs": [
    {
     "data": {
      "text/plain": [
       "{'spreadsheetId': '153tefpUd5JMxR7iWw3HtPW1zzsdruo9yAQgVxi9Boo0',\n",
       " 'updatedRange': \"'일기'!A2\",\n",
       " 'updatedRows': 1,\n",
       " 'updatedColumns': 1,\n",
       " 'updatedCells': 1}"
      ]
     },
     "execution_count": 74,
     "metadata": {},
     "output_type": "execute_result"
    }
   ],
   "source": [
    "# 특정 셀에 데이터 쓰기\n",
    "worksheet.update_acell('A2', 'a2 update')"
   ]
  },
  {
   "cell_type": "code",
   "execution_count": 75,
   "id": "8848f564",
   "metadata": {},
   "outputs": [
    {
     "data": {
      "text/plain": [
       "{'spreadsheetId': '153tefpUd5JMxR7iWw3HtPW1zzsdruo9yAQgVxi9Boo0',\n",
       " 'updates': {'spreadsheetId': '153tefpUd5JMxR7iWw3HtPW1zzsdruo9yAQgVxi9Boo0',\n",
       "  'updatedRange': \"'일기'!A2:E2\",\n",
       "  'updatedRows': 1,\n",
       "  'updatedColumns': 5,\n",
       "  'updatedCells': 5}}"
      ]
     },
     "execution_count": 75,
     "metadata": {},
     "output_type": "execute_result"
    }
   ],
   "source": [
    "# 행 데이터 쓰기\n",
    "# worksheet.append_row(['new1', 'new2']) >> 맨 아래줄에 추가\n",
    "worksheet.insert_row(['a', 'b', 'c', 'd', 'e'], 2)"
   ]
  },
  {
   "cell_type": "markdown",
   "id": "34843360",
   "metadata": {},
   "source": [
    "## 크롤링해서 데이터 추가"
   ]
  },
  {
   "cell_type": "code",
   "execution_count": null,
   "id": "8eeed5e4",
   "metadata": {},
   "outputs": [],
   "source": [
    "driver = webdriver.Chrome(\"chromedriver.exe\")\n",
    "driver.get('https://www.instargram.com')\n",
    "\n",
    "instagram_login() \n",
    "\n",
    "driver.get(insta_searching('일기'))\n",
    "time.sleep(4)\n",
    "\n",
    "#target_temp = driver.find_element_by_xpath('//*[@id=\"react-root\"]/section/main/header/div[2]/div/div[2]/span/span').text\n",
    "#target = int(target_temp.replace(',', ''))\n",
    "target=5\n",
    "time.sleep(3)\n",
    "\n",
    "select_first(driver)\n",
    "\n",
    "for i in range(target):\n",
    "    # 수집 오류 > 2초 대기\n",
    "    try:\n",
    "        data = get_content(driver)    # 게시글 정보\n",
    "        worksheet.insert_row([data[0], data[1], data[2], data[3], str(data[4])], 2)\n",
    "        move_next(driver)\n",
    "    except:\n",
    "        time.sleep(2)\n",
    "        move_next(driver)\n",
    "\n",
    "driver.close()"
   ]
  },
  {
   "cell_type": "code",
   "execution_count": 95,
   "id": "40b9109c",
   "metadata": {
    "scrolled": true
   },
   "outputs": [
    {
     "data": {
      "text/plain": [
       "{'spreadsheetId': '153tefpUd5JMxR7iWw3HtPW1zzsdruo9yAQgVxi9Boo0',\n",
       " 'updates': {'spreadsheetId': '153tefpUd5JMxR7iWw3HtPW1zzsdruo9yAQgVxi9Boo0',\n",
       "  'updatedRange': \"'일기'!A2:D2\",\n",
       "  'updatedRows': 1,\n",
       "  'updatedColumns': 4,\n",
       "  'updatedCells': 4}}"
      ]
     },
     "execution_count": 95,
     "metadata": {},
     "output_type": "execute_result"
    }
   ],
   "source": [
    "worksheet.insert_row([data[0], data[1], data[2], data[3]], 2)"
   ]
  },
  {
   "cell_type": "code",
   "execution_count": 102,
   "id": "994b6de2",
   "metadata": {},
   "outputs": [
    {
     "data": {
      "text/plain": [
       "\"['#핫펠트', '#모트모트', '#motemote', '#올클', '#명대사', '#명언', '#명언스타그램', '#글귀', '#글스타그램', '#자존감', '#강연', '#마이크임팩트', '#자기계발', '#아티스트', '#핫펠트', '#원더걸스', '#예은', '#아이돌', '#kpop', '#노래추천', '#레전드', '#일상', '#공감', '#플래너', '#플래너추천', '#일기', '#영화', '#영화추천', '#독서', '#책추천']\""
      ]
     },
     "execution_count": 102,
     "metadata": {},
     "output_type": "execute_result"
    }
   ],
   "source": [
    "str(results[4][4])"
   ]
  },
  {
   "cell_type": "code",
   "execution_count": null,
   "id": "0c4a4ecb",
   "metadata": {},
   "outputs": [],
   "source": []
  }
 ],
 "metadata": {
  "kernelspec": {
   "display_name": "Python 3",
   "language": "python",
   "name": "python3"
  },
  "language_info": {
   "codemirror_mode": {
    "name": "ipython",
    "version": 3
   },
   "file_extension": ".py",
   "mimetype": "text/x-python",
   "name": "python",
   "nbconvert_exporter": "python",
   "pygments_lexer": "ipython3",
   "version": "3.8.8"
  }
 },
 "nbformat": 4,
 "nbformat_minor": 5
}
