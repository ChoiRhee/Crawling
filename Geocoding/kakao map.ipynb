{
 "cells": [
  {
   "cell_type": "code",
   "execution_count": 1,
   "id": "1f0f0c19",
   "metadata": {},
   "outputs": [],
   "source": [
    "import pandas as pd\n",
    "import requests\n",
    "import json\n",
    "\n",
    "park = pd.read_excel('park location.xlsx')['공원명']"
   ]
  },
  {
   "cell_type": "code",
   "execution_count": 2,
   "id": "eb16a72c",
   "metadata": {},
   "outputs": [],
   "source": [
    "park = list(park)"
   ]
  },
  {
   "cell_type": "markdown",
   "id": "30cc449c",
   "metadata": {},
   "source": [
    "## kakao map url\n",
    "latlng_url = \"https://dapi.kakao.com/v2/local/geo/coord2regioncode.json?x=경도lng&y=위도lat\"\n",
    "\n",
    "keyword_url = \"https://dapi.kakao.com/v2/local/search/keyword.json?query=검색어\"\n",
    "\n",
    "address_url = \"https://dapi.kakao.com/v2/local/search/address.json?query=주소\""
   ]
  },
  {
   "cell_type": "markdown",
   "id": "9d070262",
   "metadata": {},
   "source": [
    "## 공원"
   ]
  },
  {
   "cell_type": "code",
   "execution_count": 3,
   "id": "0f6b677d",
   "metadata": {},
   "outputs": [
    {
     "data": {
      "text/plain": [
       "'남산도시자연공원'"
      ]
     },
     "execution_count": 3,
     "metadata": {},
     "output_type": "execute_result"
    }
   ],
   "source": [
    "park[0]"
   ]
  },
  {
   "cell_type": "code",
   "execution_count": 4,
   "id": "afe147fc",
   "metadata": {},
   "outputs": [
    {
     "data": {
      "text/plain": [
       "{'documents': [{'address_name': '서울 중구 예장동 산 5-6',\n",
       "   'category_group_code': '',\n",
       "   'category_group_name': '',\n",
       "   'category_name': '여행 > 공원 > 도시근린공원',\n",
       "   'distance': '',\n",
       "   'id': '8246129',\n",
       "   'phone': '02-3783-5900',\n",
       "   'place_name': '남산공원',\n",
       "   'place_url': 'http://place.map.kakao.com/8246129',\n",
       "   'road_address_name': '서울 중구 남산공원길 125-54',\n",
       "   'x': '126.989316855952',\n",
       "   'y': '37.5524979951415'}],\n",
       " 'meta': {'is_end': True,\n",
       "  'pageable_count': 1,\n",
       "  'same_name': {'keyword': '남산도시자연공원', 'region': [], 'selected_region': ''},\n",
       "  'total_count': 1}}"
      ]
     },
     "execution_count": 4,
     "metadata": {},
     "output_type": "execute_result"
    }
   ],
   "source": [
    "url = \"https://dapi.kakao.com/v2/local/search/keyword.json?query=\" + park[0]\n",
    "headers = {\"Authorization\": \"KakaoAK d7a5957b4fe1aef6a523daf1be7e8720\"} # admin key\n",
    "req = requests.get(url, headers = headers)\n",
    "text = req.json()\n",
    "text"
   ]
  },
  {
   "cell_type": "code",
   "execution_count": 5,
   "id": "6604f535",
   "metadata": {},
   "outputs": [
    {
     "data": {
      "text/plain": [
       "'서울 중구 예장동 산 5-6'"
      ]
     },
     "execution_count": 5,
     "metadata": {},
     "output_type": "execute_result"
    }
   ],
   "source": [
    "text['documents'][0]['address_name']"
   ]
  },
  {
   "cell_type": "code",
   "execution_count": 6,
   "id": "83ebb431",
   "metadata": {},
   "outputs": [
    {
     "data": {
      "text/plain": [
       "['서울', '중구', '예장동', '산', '5-6']"
      ]
     },
     "execution_count": 6,
     "metadata": {},
     "output_type": "execute_result"
    }
   ],
   "source": [
    "text['documents'][0]['address_name'].split(' ')"
   ]
  },
  {
   "cell_type": "code",
   "execution_count": 7,
   "id": "3d18147c",
   "metadata": {},
   "outputs": [
    {
     "data": {
      "text/plain": [
       "'중구'"
      ]
     },
     "execution_count": 7,
     "metadata": {},
     "output_type": "execute_result"
    }
   ],
   "source": [
    "text['documents'][0]['address_name'].split(' ')[1]"
   ]
  },
  {
   "cell_type": "code",
   "execution_count": 8,
   "id": "2657ab97",
   "metadata": {},
   "outputs": [
    {
     "data": {
      "text/plain": [
       "'예장동'"
      ]
     },
     "execution_count": 8,
     "metadata": {},
     "output_type": "execute_result"
    }
   ],
   "source": [
    "text['documents'][0]['address_name'].split(' ')[2]"
   ]
  },
  {
   "cell_type": "code",
   "execution_count": null,
   "id": "4f0a6fbf",
   "metadata": {},
   "outputs": [],
   "source": [
    "text['documents'][0]['x'] # lng\n",
    "text['documents'][0]['y'] # lat"
   ]
  },
  {
   "cell_type": "code",
   "execution_count": 21,
   "id": "cc1f5635",
   "metadata": {},
   "outputs": [
    {
     "data": {
      "text/html": [
       "<div>\n",
       "<style scoped>\n",
       "    .dataframe tbody tr th:only-of-type {\n",
       "        vertical-align: middle;\n",
       "    }\n",
       "\n",
       "    .dataframe tbody tr th {\n",
       "        vertical-align: top;\n",
       "    }\n",
       "\n",
       "    .dataframe thead th {\n",
       "        text-align: right;\n",
       "    }\n",
       "</style>\n",
       "<table border=\"1\" class=\"dataframe\">\n",
       "  <thead>\n",
       "    <tr style=\"text-align: right;\">\n",
       "      <th></th>\n",
       "      <th>공원명</th>\n",
       "      <th>주소</th>\n",
       "      <th>구</th>\n",
       "      <th>동</th>\n",
       "      <th>lat</th>\n",
       "      <th>lng</th>\n",
       "    </tr>\n",
       "  </thead>\n",
       "  <tbody>\n",
       "    <tr>\n",
       "      <th>0</th>\n",
       "      <td>남산도시자연공원</td>\n",
       "      <td>서울 중구 예장동 산 5-6</td>\n",
       "      <td>중구</td>\n",
       "      <td>예장동</td>\n",
       "      <td>37.5524979951415</td>\n",
       "      <td>126.989316855952</td>\n",
       "    </tr>\n",
       "    <tr>\n",
       "      <th>1</th>\n",
       "      <td>길동생태공원</td>\n",
       "      <td>서울 강동구 길동 산 7-3</td>\n",
       "      <td>강동구</td>\n",
       "      <td>길동</td>\n",
       "      <td>37.5408201666847</td>\n",
       "      <td>127.15541997637</td>\n",
       "    </tr>\n",
       "    <tr>\n",
       "      <th>2</th>\n",
       "      <td>서울대공원</td>\n",
       "      <td>경기 과천시 막계동 159-1</td>\n",
       "      <td>과천시</td>\n",
       "      <td>막계동</td>\n",
       "      <td>37.4269323703359</td>\n",
       "      <td>127.01990249053</td>\n",
       "    </tr>\n",
       "    <tr>\n",
       "      <th>3</th>\n",
       "      <td>서울숲</td>\n",
       "      <td>서울 성동구 성수동1가 678-1</td>\n",
       "      <td>성동구</td>\n",
       "      <td>성수동1가</td>\n",
       "      <td>37.5443222301513</td>\n",
       "      <td>127.037617759165</td>\n",
       "    </tr>\n",
       "    <tr>\n",
       "      <th>4</th>\n",
       "      <td>월드컵공원</td>\n",
       "      <td>서울 마포구 성산동 390-1</td>\n",
       "      <td>마포구</td>\n",
       "      <td>성산동</td>\n",
       "      <td>37.5631939895966</td>\n",
       "      <td>126.897635431027</td>\n",
       "    </tr>\n",
       "    <tr>\n",
       "      <th>...</th>\n",
       "      <td>...</td>\n",
       "      <td>...</td>\n",
       "      <td>...</td>\n",
       "      <td>...</td>\n",
       "      <td>...</td>\n",
       "      <td>...</td>\n",
       "    </tr>\n",
       "    <tr>\n",
       "      <th>127</th>\n",
       "      <td>용마도시자연공원(사가정공원)</td>\n",
       "      <td>x</td>\n",
       "      <td>x</td>\n",
       "      <td>x</td>\n",
       "      <td>x</td>\n",
       "      <td>x</td>\n",
       "    </tr>\n",
       "    <tr>\n",
       "      <th>128</th>\n",
       "      <td>문화비축기지</td>\n",
       "      <td>서울 마포구 성산동 661</td>\n",
       "      <td>마포구</td>\n",
       "      <td>성산동</td>\n",
       "      <td>37.57107560511949</td>\n",
       "      <td>126.89423666008835</td>\n",
       "    </tr>\n",
       "    <tr>\n",
       "      <th>129</th>\n",
       "      <td>경춘선숲길</td>\n",
       "      <td>서울 노원구 공릉동</td>\n",
       "      <td>노원구</td>\n",
       "      <td>공릉동</td>\n",
       "      <td>37.620691807133</td>\n",
       "      <td>127.078706040469</td>\n",
       "    </tr>\n",
       "    <tr>\n",
       "      <th>130</th>\n",
       "      <td>율현공원</td>\n",
       "      <td>서울 강남구 율현동 77-9</td>\n",
       "      <td>강남구</td>\n",
       "      <td>율현동</td>\n",
       "      <td>37.4726797483976</td>\n",
       "      <td>127.11548348948982</td>\n",
       "    </tr>\n",
       "    <tr>\n",
       "      <th>131</th>\n",
       "      <td>서울로7017</td>\n",
       "      <td>서울 중구 봉래동2가 122-16</td>\n",
       "      <td>중구</td>\n",
       "      <td>봉래동2가</td>\n",
       "      <td>37.556621312430444</td>\n",
       "      <td>126.97029831807974</td>\n",
       "    </tr>\n",
       "  </tbody>\n",
       "</table>\n",
       "<p>132 rows × 6 columns</p>\n",
       "</div>"
      ],
      "text/plain": [
       "                 공원명                  주소    구      동                 lat  \\\n",
       "0           남산도시자연공원     서울 중구 예장동 산 5-6   중구    예장동    37.5524979951415   \n",
       "1             길동생태공원     서울 강동구 길동 산 7-3  강동구     길동    37.5408201666847   \n",
       "2              서울대공원    경기 과천시 막계동 159-1  과천시    막계동    37.4269323703359   \n",
       "3                서울숲  서울 성동구 성수동1가 678-1  성동구  성수동1가    37.5443222301513   \n",
       "4              월드컵공원    서울 마포구 성산동 390-1  마포구    성산동    37.5631939895966   \n",
       "..               ...                 ...  ...    ...                 ...   \n",
       "127  용마도시자연공원(사가정공원)                   x    x      x                   x   \n",
       "128           문화비축기지      서울 마포구 성산동 661  마포구    성산동   37.57107560511949   \n",
       "129            경춘선숲길          서울 노원구 공릉동  노원구    공릉동     37.620691807133   \n",
       "130             율현공원     서울 강남구 율현동 77-9  강남구    율현동    37.4726797483976   \n",
       "131          서울로7017  서울 중구 봉래동2가 122-16   중구  봉래동2가  37.556621312430444   \n",
       "\n",
       "                    lng  \n",
       "0      126.989316855952  \n",
       "1       127.15541997637  \n",
       "2       127.01990249053  \n",
       "3      127.037617759165  \n",
       "4      126.897635431027  \n",
       "..                  ...  \n",
       "127                   x  \n",
       "128  126.89423666008835  \n",
       "129    127.078706040469  \n",
       "130  127.11548348948982  \n",
       "131  126.97029831807974  \n",
       "\n",
       "[132 rows x 6 columns]"
      ]
     },
     "execution_count": 21,
     "metadata": {},
     "output_type": "execute_result"
    }
   ],
   "source": [
    "park = pd.read_excel('park location.xlsx')['공원명']\n",
    "park = list(park)\n",
    "\n",
    "parks = {'공원명' : [], '주소': [], '구': [], '동': [], 'lat': [], 'lng': []}\n",
    "\n",
    "for i in range(len(park)):\n",
    "    url = \"https://dapi.kakao.com/v2/local/search/keyword.json?query=\" + park[i]\n",
    "    headers = {\"Authorization\": \"KakaoAK d7a5957b4fe1aef6a523daf1be7e8720\"} # admin key\n",
    "    req = requests.get(url, headers = headers)\n",
    "    text = req.json()\n",
    "    parks['공원명'].append(park[i])\n",
    "    try:\n",
    "        parks['주소'].append(text['documents'][0]['address_name'])\n",
    "        parks['구'].append(text['documents'][0]['address_name'].split(' ')[1])\n",
    "        parks['동'].append(text['documents'][0]['address_name'].split(' ')[2])\n",
    "        parks['lat'].append(text['documents'][0]['y'])\n",
    "        parks['lng'].append(text['documents'][0]['x'])\n",
    "    except:\n",
    "        parks['주소'].append('x')\n",
    "        parks['구'].append('x')\n",
    "        parks['동'].append('x')\n",
    "        parks['lat'].append('x')\n",
    "        parks['lng'].append('x')\n",
    "\n",
    "pd.DataFrame(parks)"
   ]
  },
  {
   "cell_type": "code",
   "execution_count": 23,
   "id": "1f15d6a5",
   "metadata": {},
   "outputs": [],
   "source": [
    "parks = pd.DataFrame(parks)"
   ]
  },
  {
   "cell_type": "code",
   "execution_count": 24,
   "id": "8b1e948f",
   "metadata": {},
   "outputs": [],
   "source": [
    "parks.to_csv('공원 주소.csv', index = False)"
   ]
  },
  {
   "cell_type": "markdown",
   "id": "9c0eab3d",
   "metadata": {},
   "source": [
    "## 영화관"
   ]
  },
  {
   "cell_type": "code",
   "execution_count": 10,
   "id": "e345a46f",
   "metadata": {},
   "outputs": [
    {
     "data": {
      "text/html": [
       "<div>\n",
       "<style scoped>\n",
       "    .dataframe tbody tr th:only-of-type {\n",
       "        vertical-align: middle;\n",
       "    }\n",
       "\n",
       "    .dataframe tbody tr th {\n",
       "        vertical-align: top;\n",
       "    }\n",
       "\n",
       "    .dataframe thead th {\n",
       "        text-align: right;\n",
       "    }\n",
       "</style>\n",
       "<table border=\"1\" class=\"dataframe\">\n",
       "  <thead>\n",
       "    <tr style=\"text-align: right;\">\n",
       "      <th></th>\n",
       "      <th>Unnamed: 0</th>\n",
       "      <th>영화관</th>\n",
       "      <th>lat</th>\n",
       "      <th>lng</th>\n",
       "    </tr>\n",
       "  </thead>\n",
       "  <tbody>\n",
       "    <tr>\n",
       "      <th>0</th>\n",
       "      <td>0</td>\n",
       "      <td>(주)케이엠티브이</td>\n",
       "      <td>37.529402</td>\n",
       "      <td>126.871104</td>\n",
       "    </tr>\n",
       "    <tr>\n",
       "      <th>1</th>\n",
       "      <td>1</td>\n",
       "      <td>CGV강남제</td>\n",
       "      <td>37.501559</td>\n",
       "      <td>127.026319</td>\n",
       "    </tr>\n",
       "    <tr>\n",
       "      <th>2</th>\n",
       "      <td>2</td>\n",
       "      <td>CGV강변CINE&amp;FORET</td>\n",
       "      <td>37.534937</td>\n",
       "      <td>127.095709</td>\n",
       "    </tr>\n",
       "    <tr>\n",
       "      <th>3</th>\n",
       "      <td>3</td>\n",
       "      <td>CGV강변DX</td>\n",
       "      <td>37.485214</td>\n",
       "      <td>127.013629</td>\n",
       "    </tr>\n",
       "    <tr>\n",
       "      <th>4</th>\n",
       "      <td>4</td>\n",
       "      <td>CGV강변STAR</td>\n",
       "      <td>37.534937</td>\n",
       "      <td>127.095709</td>\n",
       "    </tr>\n",
       "  </tbody>\n",
       "</table>\n",
       "</div>"
      ],
      "text/plain": [
       "   Unnamed: 0              영화관        lat         lng\n",
       "0           0        (주)케이엠티브이  37.529402  126.871104\n",
       "1           1           CGV강남제  37.501559  127.026319\n",
       "2           2  CGV강변CINE&FORET  37.534937  127.095709\n",
       "3           3          CGV강변DX  37.485214  127.013629\n",
       "4           4        CGV강변STAR  37.534937  127.095709"
      ]
     },
     "execution_count": 10,
     "metadata": {},
     "output_type": "execute_result"
    }
   ],
   "source": [
    "theater = pd.read_excel('theater_location.xlsx')\n",
    "theater.head() "
   ]
  },
  {
   "cell_type": "code",
   "execution_count": 11,
   "id": "4fc3caff",
   "metadata": {},
   "outputs": [],
   "source": [
    "lat = theater['lat']\n",
    "lng = theater['lng']"
   ]
  },
  {
   "cell_type": "code",
   "execution_count": 14,
   "id": "e72eb730",
   "metadata": {},
   "outputs": [
    {
     "data": {
      "text/plain": [
       "{'meta': {'total_count': 2},\n",
       " 'documents': [{'region_type': 'B',\n",
       "   'code': '1111012100',\n",
       "   'address_name': '서울특별시 종로구 신문로2가',\n",
       "   'region_1depth_name': '서울특별시',\n",
       "   'region_2depth_name': '종로구',\n",
       "   'region_3depth_name': '신문로2가',\n",
       "   'region_4depth_name': '',\n",
       "   'x': 126.96862192850534,\n",
       "   'y': 37.570748501590366},\n",
       "  {'region_type': 'H',\n",
       "   'code': '1111053000',\n",
       "   'address_name': '서울특별시 종로구 사직동',\n",
       "   'region_1depth_name': '서울특별시',\n",
       "   'region_2depth_name': '종로구',\n",
       "   'region_3depth_name': '사직동',\n",
       "   'region_4depth_name': '',\n",
       "   'x': 126.96884605608865,\n",
       "   'y': 37.57618696588561}]}"
      ]
     },
     "execution_count": 14,
     "metadata": {},
     "output_type": "execute_result"
    }
   ],
   "source": [
    "headers = {\"Authorization\": \"KakaoAK d7a5957b4fe1aef6a523daf1be7e8720\"}\n",
    "text = requests.get(\"https://dapi.kakao.com/v2/local/geo/coord2regioncode.json?x={}&y={}\".format(lng[i], lat[i]), headers = headers).json()\n",
    "text"
   ]
  },
  {
   "cell_type": "code",
   "execution_count": 15,
   "id": "efefbf4c",
   "metadata": {},
   "outputs": [
    {
     "data": {
      "text/plain": [
       "'서울특별시 종로구 신문로2가'"
      ]
     },
     "execution_count": 15,
     "metadata": {},
     "output_type": "execute_result"
    }
   ],
   "source": [
    "text['documents'][0]['address_name']"
   ]
  },
  {
   "cell_type": "code",
   "execution_count": 16,
   "id": "1705c896",
   "metadata": {},
   "outputs": [
    {
     "data": {
      "text/plain": [
       "'종로구'"
      ]
     },
     "execution_count": 16,
     "metadata": {},
     "output_type": "execute_result"
    }
   ],
   "source": [
    "text['documents'][0]['region_2depth_name']"
   ]
  },
  {
   "cell_type": "code",
   "execution_count": 17,
   "id": "cad117c4",
   "metadata": {},
   "outputs": [
    {
     "data": {
      "text/plain": [
       "'신문로2가'"
      ]
     },
     "execution_count": 17,
     "metadata": {},
     "output_type": "execute_result"
    }
   ],
   "source": [
    "text['documents'][0]['region_3depth_name']"
   ]
  },
  {
   "cell_type": "code",
   "execution_count": 18,
   "id": "38028448",
   "metadata": {},
   "outputs": [
    {
     "data": {
      "text/html": [
       "<div>\n",
       "<style scoped>\n",
       "    .dataframe tbody tr th:only-of-type {\n",
       "        vertical-align: middle;\n",
       "    }\n",
       "\n",
       "    .dataframe tbody tr th {\n",
       "        vertical-align: top;\n",
       "    }\n",
       "\n",
       "    .dataframe thead th {\n",
       "        text-align: right;\n",
       "    }\n",
       "</style>\n",
       "<table border=\"1\" class=\"dataframe\">\n",
       "  <thead>\n",
       "    <tr style=\"text-align: right;\">\n",
       "      <th></th>\n",
       "      <th>영화관명</th>\n",
       "      <th>주소</th>\n",
       "      <th>구</th>\n",
       "      <th>동</th>\n",
       "    </tr>\n",
       "  </thead>\n",
       "  <tbody>\n",
       "    <tr>\n",
       "      <th>0</th>\n",
       "      <td>(주)케이엠티브이</td>\n",
       "      <td>서울특별시 양천구 목동</td>\n",
       "      <td>양천구</td>\n",
       "      <td>목동</td>\n",
       "    </tr>\n",
       "    <tr>\n",
       "      <th>1</th>\n",
       "      <td>CGV강남제</td>\n",
       "      <td>서울특별시 강남구 역삼동</td>\n",
       "      <td>강남구</td>\n",
       "      <td>역삼동</td>\n",
       "    </tr>\n",
       "    <tr>\n",
       "      <th>2</th>\n",
       "      <td>CGV강변CINE&amp;FORET</td>\n",
       "      <td>서울특별시 광진구 구의동</td>\n",
       "      <td>광진구</td>\n",
       "      <td>구의동</td>\n",
       "    </tr>\n",
       "    <tr>\n",
       "      <th>3</th>\n",
       "      <td>CGV강변DX</td>\n",
       "      <td>서울특별시 서초구 서초동</td>\n",
       "      <td>서초구</td>\n",
       "      <td>서초동</td>\n",
       "    </tr>\n",
       "    <tr>\n",
       "      <th>4</th>\n",
       "      <td>CGV강변STAR</td>\n",
       "      <td>서울특별시 광진구 구의동</td>\n",
       "      <td>광진구</td>\n",
       "      <td>구의동</td>\n",
       "    </tr>\n",
       "    <tr>\n",
       "      <th>...</th>\n",
       "      <td>...</td>\n",
       "      <td>...</td>\n",
       "      <td>...</td>\n",
       "      <td>...</td>\n",
       "    </tr>\n",
       "    <tr>\n",
       "      <th>140</th>\n",
       "      <td>코엑스더부티크프라이빗</td>\n",
       "      <td>서울특별시 강남구 삼성동</td>\n",
       "      <td>강남구</td>\n",
       "      <td>삼성동</td>\n",
       "    </tr>\n",
       "    <tr>\n",
       "      <th>141</th>\n",
       "      <td>코엑스컴포트</td>\n",
       "      <td>서울특별시 강남구 삼성동</td>\n",
       "      <td>강남구</td>\n",
       "      <td>삼성동</td>\n",
       "    </tr>\n",
       "    <tr>\n",
       "      <th>142</th>\n",
       "      <td>클래식시네마스페이스(주)</td>\n",
       "      <td>x</td>\n",
       "      <td>x</td>\n",
       "      <td>x</td>\n",
       "    </tr>\n",
       "    <tr>\n",
       "      <th>143</th>\n",
       "      <td>필름포럼</td>\n",
       "      <td>서울특별시 서대문구 대신동</td>\n",
       "      <td>서대문구</td>\n",
       "      <td>대신동</td>\n",
       "    </tr>\n",
       "    <tr>\n",
       "      <th>144</th>\n",
       "      <td>허리우드클래식</td>\n",
       "      <td>서울특별시 종로구 낙원동</td>\n",
       "      <td>종로구</td>\n",
       "      <td>낙원동</td>\n",
       "    </tr>\n",
       "  </tbody>\n",
       "</table>\n",
       "<p>145 rows × 4 columns</p>\n",
       "</div>"
      ],
      "text/plain": [
       "                영화관명              주소     구    동\n",
       "0          (주)케이엠티브이    서울특별시 양천구 목동   양천구   목동\n",
       "1             CGV강남제   서울특별시 강남구 역삼동   강남구  역삼동\n",
       "2    CGV강변CINE&FORET   서울특별시 광진구 구의동   광진구  구의동\n",
       "3            CGV강변DX   서울특별시 서초구 서초동   서초구  서초동\n",
       "4          CGV강변STAR   서울특별시 광진구 구의동   광진구  구의동\n",
       "..               ...             ...   ...  ...\n",
       "140      코엑스더부티크프라이빗   서울특별시 강남구 삼성동   강남구  삼성동\n",
       "141           코엑스컴포트   서울특별시 강남구 삼성동   강남구  삼성동\n",
       "142    클래식시네마스페이스(주)               x     x    x\n",
       "143             필름포럼  서울특별시 서대문구 대신동  서대문구  대신동\n",
       "144          허리우드클래식   서울특별시 종로구 낙원동   종로구  낙원동\n",
       "\n",
       "[145 rows x 4 columns]"
      ]
     },
     "execution_count": 18,
     "metadata": {},
     "output_type": "execute_result"
    }
   ],
   "source": [
    "theaters = {'영화관명' : [], '주소': [], '구': [], '동': []}\n",
    "\n",
    "for i in range(len(lat)):\n",
    "    headers = {\"Authorization\": \"KakaoAK d7a5957b4fe1aef6a523daf1be7e8720\"}\n",
    "    text = requests.get(\"https://dapi.kakao.com/v2/local/geo/coord2regioncode.json?x={}&y={}\".format(lng[i], lat[i]), headers = headers).json()\n",
    "    \n",
    "    theaters['영화관명'].append(theater['영화관'][i])\n",
    "\n",
    "    try:\n",
    "        theaters['주소'].append(text['documents'][0]['address_name'])\n",
    "        theaters['구'].append(text['documents'][0]['region_2depth_name'])\n",
    "        theaters['동'].append(text['documents'][0]['region_3depth_name'])\n",
    "    except:\n",
    "        theaters['주소'].append('x')\n",
    "        theaters['구'].append('x')\n",
    "        theaters['동'].append('x')\n",
    "\n",
    "pd.DataFrame(theaters)"
   ]
  },
  {
   "cell_type": "code",
   "execution_count": 26,
   "id": "1cab8dcd",
   "metadata": {},
   "outputs": [
    {
     "data": {
      "text/html": [
       "<div>\n",
       "<style scoped>\n",
       "    .dataframe tbody tr th:only-of-type {\n",
       "        vertical-align: middle;\n",
       "    }\n",
       "\n",
       "    .dataframe tbody tr th {\n",
       "        vertical-align: top;\n",
       "    }\n",
       "\n",
       "    .dataframe thead th {\n",
       "        text-align: right;\n",
       "    }\n",
       "</style>\n",
       "<table border=\"1\" class=\"dataframe\">\n",
       "  <thead>\n",
       "    <tr style=\"text-align: right;\">\n",
       "      <th></th>\n",
       "      <th>영화관명</th>\n",
       "      <th>주소</th>\n",
       "      <th>구</th>\n",
       "      <th>동</th>\n",
       "      <th>lat</th>\n",
       "      <th>lng</th>\n",
       "    </tr>\n",
       "  </thead>\n",
       "  <tbody>\n",
       "    <tr>\n",
       "      <th>0</th>\n",
       "      <td>(주)케이엠티브이</td>\n",
       "      <td>서울특별시 양천구 목동</td>\n",
       "      <td>양천구</td>\n",
       "      <td>목동</td>\n",
       "      <td>37.529402</td>\n",
       "      <td>126.871104</td>\n",
       "    </tr>\n",
       "    <tr>\n",
       "      <th>1</th>\n",
       "      <td>CGV강남제</td>\n",
       "      <td>서울특별시 강남구 역삼동</td>\n",
       "      <td>강남구</td>\n",
       "      <td>역삼동</td>\n",
       "      <td>37.501559</td>\n",
       "      <td>127.026319</td>\n",
       "    </tr>\n",
       "    <tr>\n",
       "      <th>2</th>\n",
       "      <td>CGV강변CINE&amp;FORET</td>\n",
       "      <td>서울특별시 광진구 구의동</td>\n",
       "      <td>광진구</td>\n",
       "      <td>구의동</td>\n",
       "      <td>37.534937</td>\n",
       "      <td>127.095709</td>\n",
       "    </tr>\n",
       "    <tr>\n",
       "      <th>3</th>\n",
       "      <td>CGV강변DX</td>\n",
       "      <td>서울특별시 서초구 서초동</td>\n",
       "      <td>서초구</td>\n",
       "      <td>서초동</td>\n",
       "      <td>37.485214</td>\n",
       "      <td>127.013629</td>\n",
       "    </tr>\n",
       "    <tr>\n",
       "      <th>4</th>\n",
       "      <td>CGV강변STAR</td>\n",
       "      <td>서울특별시 광진구 구의동</td>\n",
       "      <td>광진구</td>\n",
       "      <td>구의동</td>\n",
       "      <td>37.534937</td>\n",
       "      <td>127.095709</td>\n",
       "    </tr>\n",
       "    <tr>\n",
       "      <th>...</th>\n",
       "      <td>...</td>\n",
       "      <td>...</td>\n",
       "      <td>...</td>\n",
       "      <td>...</td>\n",
       "      <td>...</td>\n",
       "      <td>...</td>\n",
       "    </tr>\n",
       "    <tr>\n",
       "      <th>140</th>\n",
       "      <td>코엑스더부티크프라이빗</td>\n",
       "      <td>서울특별시 강남구 삼성동</td>\n",
       "      <td>강남구</td>\n",
       "      <td>삼성동</td>\n",
       "      <td>37.512445</td>\n",
       "      <td>127.058791</td>\n",
       "    </tr>\n",
       "    <tr>\n",
       "      <th>141</th>\n",
       "      <td>코엑스컴포트</td>\n",
       "      <td>서울특별시 강남구 삼성동</td>\n",
       "      <td>강남구</td>\n",
       "      <td>삼성동</td>\n",
       "      <td>37.512445</td>\n",
       "      <td>127.058791</td>\n",
       "    </tr>\n",
       "    <tr>\n",
       "      <th>142</th>\n",
       "      <td>클래식시네마스페이스(주)</td>\n",
       "      <td>x</td>\n",
       "      <td>x</td>\n",
       "      <td>x</td>\n",
       "      <td>0.000000</td>\n",
       "      <td>0.000000</td>\n",
       "    </tr>\n",
       "    <tr>\n",
       "      <th>143</th>\n",
       "      <td>필름포럼</td>\n",
       "      <td>서울특별시 서대문구 대신동</td>\n",
       "      <td>서대문구</td>\n",
       "      <td>대신동</td>\n",
       "      <td>37.563757</td>\n",
       "      <td>126.944112</td>\n",
       "    </tr>\n",
       "    <tr>\n",
       "      <th>144</th>\n",
       "      <td>허리우드클래식</td>\n",
       "      <td>서울특별시 종로구 낙원동</td>\n",
       "      <td>종로구</td>\n",
       "      <td>낙원동</td>\n",
       "      <td>37.572832</td>\n",
       "      <td>126.988001</td>\n",
       "    </tr>\n",
       "  </tbody>\n",
       "</table>\n",
       "<p>145 rows × 6 columns</p>\n",
       "</div>"
      ],
      "text/plain": [
       "                영화관명              주소     구    동        lat         lng\n",
       "0          (주)케이엠티브이    서울특별시 양천구 목동   양천구   목동  37.529402  126.871104\n",
       "1             CGV강남제   서울특별시 강남구 역삼동   강남구  역삼동  37.501559  127.026319\n",
       "2    CGV강변CINE&FORET   서울특별시 광진구 구의동   광진구  구의동  37.534937  127.095709\n",
       "3            CGV강변DX   서울특별시 서초구 서초동   서초구  서초동  37.485214  127.013629\n",
       "4          CGV강변STAR   서울특별시 광진구 구의동   광진구  구의동  37.534937  127.095709\n",
       "..               ...             ...   ...  ...        ...         ...\n",
       "140      코엑스더부티크프라이빗   서울특별시 강남구 삼성동   강남구  삼성동  37.512445  127.058791\n",
       "141           코엑스컴포트   서울특별시 강남구 삼성동   강남구  삼성동  37.512445  127.058791\n",
       "142    클래식시네마스페이스(주)               x     x    x   0.000000    0.000000\n",
       "143             필름포럼  서울특별시 서대문구 대신동  서대문구  대신동  37.563757  126.944112\n",
       "144          허리우드클래식   서울특별시 종로구 낙원동   종로구  낙원동  37.572832  126.988001\n",
       "\n",
       "[145 rows x 6 columns]"
      ]
     },
     "execution_count": 26,
     "metadata": {},
     "output_type": "execute_result"
    }
   ],
   "source": [
    "theaters = pd.DataFrame(theaters)\n",
    "theaters = pd.concat([theaters, lat, lng], axis = 1)\n",
    "theaters"
   ]
  },
  {
   "cell_type": "code",
   "execution_count": 27,
   "id": "88f805fb",
   "metadata": {},
   "outputs": [],
   "source": [
    "theaters.to_csv('영화관 주소.csv', index = False)"
   ]
  },
  {
   "cell_type": "code",
   "execution_count": 37,
   "id": "dcb790b5",
   "metadata": {},
   "outputs": [],
   "source": [
    "theaters = theaters.drop_duplicates(['lat', 'lng'], keep = \"last\")"
   ]
  },
  {
   "cell_type": "code",
   "execution_count": 42,
   "id": "e213a97b",
   "metadata": {},
   "outputs": [
    {
     "data": {
      "text/html": [
       "<div>\n",
       "<style scoped>\n",
       "    .dataframe tbody tr th:only-of-type {\n",
       "        vertical-align: middle;\n",
       "    }\n",
       "\n",
       "    .dataframe tbody tr th {\n",
       "        vertical-align: top;\n",
       "    }\n",
       "\n",
       "    .dataframe thead th {\n",
       "        text-align: right;\n",
       "    }\n",
       "</style>\n",
       "<table border=\"1\" class=\"dataframe\">\n",
       "  <thead>\n",
       "    <tr style=\"text-align: right;\">\n",
       "      <th></th>\n",
       "      <th>영화관명</th>\n",
       "      <th>주소</th>\n",
       "      <th>구</th>\n",
       "      <th>동</th>\n",
       "      <th>lat</th>\n",
       "      <th>lng</th>\n",
       "    </tr>\n",
       "  </thead>\n",
       "  <tbody>\n",
       "    <tr>\n",
       "      <th>0</th>\n",
       "      <td>(주)케이엠티브이</td>\n",
       "      <td>서울특별시 양천구 목동</td>\n",
       "      <td>양천구</td>\n",
       "      <td>목동</td>\n",
       "      <td>37.529402</td>\n",
       "      <td>126.871104</td>\n",
       "    </tr>\n",
       "    <tr>\n",
       "      <th>1</th>\n",
       "      <td>CGV강남제</td>\n",
       "      <td>서울특별시 강남구 역삼동</td>\n",
       "      <td>강남구</td>\n",
       "      <td>역삼동</td>\n",
       "      <td>37.501559</td>\n",
       "      <td>127.026319</td>\n",
       "    </tr>\n",
       "    <tr>\n",
       "      <th>2</th>\n",
       "      <td>CGV강변DX</td>\n",
       "      <td>서울특별시 서초구 서초동</td>\n",
       "      <td>서초구</td>\n",
       "      <td>서초동</td>\n",
       "      <td>37.485214</td>\n",
       "      <td>127.013629</td>\n",
       "    </tr>\n",
       "    <tr>\n",
       "      <th>3</th>\n",
       "      <td>CGV강변제[CGV아트하우스]</td>\n",
       "      <td>서울특별시 광진구 구의동</td>\n",
       "      <td>광진구</td>\n",
       "      <td>구의동</td>\n",
       "      <td>37.534937</td>\n",
       "      <td>127.095709</td>\n",
       "    </tr>\n",
       "    <tr>\n",
       "      <th>4</th>\n",
       "      <td>CGV건대입구제</td>\n",
       "      <td>서울특별시 광진구 자양동</td>\n",
       "      <td>광진구</td>\n",
       "      <td>자양동</td>\n",
       "      <td>37.539777</td>\n",
       "      <td>127.066912</td>\n",
       "    </tr>\n",
       "    <tr>\n",
       "      <th>...</th>\n",
       "      <td>...</td>\n",
       "      <td>...</td>\n",
       "      <td>...</td>\n",
       "      <td>...</td>\n",
       "      <td>...</td>\n",
       "      <td>...</td>\n",
       "    </tr>\n",
       "    <tr>\n",
       "      <th>97</th>\n",
       "      <td>청춘극장</td>\n",
       "      <td>서울특별시 성동구 행당동</td>\n",
       "      <td>성동구</td>\n",
       "      <td>행당동</td>\n",
       "      <td>37.557686</td>\n",
       "      <td>127.031286</td>\n",
       "    </tr>\n",
       "    <tr>\n",
       "      <th>98</th>\n",
       "      <td>코엑스컴포트</td>\n",
       "      <td>서울특별시 강남구 삼성동</td>\n",
       "      <td>강남구</td>\n",
       "      <td>삼성동</td>\n",
       "      <td>37.512445</td>\n",
       "      <td>127.058791</td>\n",
       "    </tr>\n",
       "    <tr>\n",
       "      <th>99</th>\n",
       "      <td>클래식시네마스페이스(주)</td>\n",
       "      <td>x</td>\n",
       "      <td>x</td>\n",
       "      <td>x</td>\n",
       "      <td>0.000000</td>\n",
       "      <td>0.000000</td>\n",
       "    </tr>\n",
       "    <tr>\n",
       "      <th>100</th>\n",
       "      <td>필름포럼</td>\n",
       "      <td>서울특별시 서대문구 대신동</td>\n",
       "      <td>서대문구</td>\n",
       "      <td>대신동</td>\n",
       "      <td>37.563757</td>\n",
       "      <td>126.944112</td>\n",
       "    </tr>\n",
       "    <tr>\n",
       "      <th>101</th>\n",
       "      <td>허리우드클래식</td>\n",
       "      <td>서울특별시 종로구 낙원동</td>\n",
       "      <td>종로구</td>\n",
       "      <td>낙원동</td>\n",
       "      <td>37.572832</td>\n",
       "      <td>126.988001</td>\n",
       "    </tr>\n",
       "  </tbody>\n",
       "</table>\n",
       "<p>102 rows × 6 columns</p>\n",
       "</div>"
      ],
      "text/plain": [
       "                 영화관명              주소     구    동        lat         lng\n",
       "0           (주)케이엠티브이    서울특별시 양천구 목동   양천구   목동  37.529402  126.871104\n",
       "1              CGV강남제   서울특별시 강남구 역삼동   강남구  역삼동  37.501559  127.026319\n",
       "2             CGV강변DX   서울특별시 서초구 서초동   서초구  서초동  37.485214  127.013629\n",
       "3    CGV강변제[CGV아트하우스]   서울특별시 광진구 구의동   광진구  구의동  37.534937  127.095709\n",
       "4            CGV건대입구제   서울특별시 광진구 자양동   광진구  자양동  37.539777  127.066912\n",
       "..                ...             ...   ...  ...        ...         ...\n",
       "97               청춘극장   서울특별시 성동구 행당동   성동구  행당동  37.557686  127.031286\n",
       "98             코엑스컴포트   서울특별시 강남구 삼성동   강남구  삼성동  37.512445  127.058791\n",
       "99      클래식시네마스페이스(주)               x     x    x   0.000000    0.000000\n",
       "100              필름포럼  서울특별시 서대문구 대신동  서대문구  대신동  37.563757  126.944112\n",
       "101           허리우드클래식   서울특별시 종로구 낙원동   종로구  낙원동  37.572832  126.988001\n",
       "\n",
       "[102 rows x 6 columns]"
      ]
     },
     "execution_count": 42,
     "metadata": {},
     "output_type": "execute_result"
    }
   ],
   "source": [
    "theaters = theaters.reset_index(drop = True)\n",
    "theaters"
   ]
  },
  {
   "cell_type": "code",
   "execution_count": 43,
   "id": "a1e1910b",
   "metadata": {},
   "outputs": [],
   "source": [
    "theaters.to_csv('영화관 주소.csv', index = False)"
   ]
  },
  {
   "cell_type": "code",
   "execution_count": null,
   "id": "40c0fd79",
   "metadata": {},
   "outputs": [],
   "source": []
  }
 ],
 "metadata": {
  "kernelspec": {
   "display_name": "Python 3",
   "language": "python",
   "name": "python3"
  },
  "language_info": {
   "codemirror_mode": {
    "name": "ipython",
    "version": 3
   },
   "file_extension": ".py",
   "mimetype": "text/x-python",
   "name": "python",
   "nbconvert_exporter": "python",
   "pygments_lexer": "ipython3",
   "version": "3.8.8"
  }
 },
 "nbformat": 4,
 "nbformat_minor": 5
}
