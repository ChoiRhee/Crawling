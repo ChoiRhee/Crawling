{
 "cells": [
  {
   "cell_type": "markdown",
   "id": "575dd957",
   "metadata": {},
   "source": [
    "**지오코딩**은 주소(예: \"1600 Amphitheatre Parkway, Mountain View, CA\")를 지도에 마커를 배치하거나 위치를 지정하는 데 사용할 수 있는 지리적 좌표(예: 위도 37.423021 및 경도 -122.083739)로 변환하는 프로세스입니다."
   ]
  },
  {
   "cell_type": "markdown",
   "id": "24ac2e1d",
   "metadata": {},
   "source": [
    "http://data.seoul.go.kr/dataList/OA-16053/S/1/datasetView.do"
   ]
  },
  {
   "cell_type": "code",
   "execution_count": 1,
   "id": "87d7ba41",
   "metadata": {
    "ExecuteTime": {
     "end_time": "2021-08-23T10:39:31.841046Z",
     "start_time": "2021-08-23T10:39:31.007550Z"
    }
   },
   "outputs": [],
   "source": [
    "import requests\n",
    "from bs4 import BeautifulSoup\n",
    " \n",
    "base_url = \"https://maps.googleapis.com/maps/api/geocode/json?address=\"\n",
    "key = \"&key=구글 api 키\"\n",
    "\n",
    "url = base_url+\"천안시\"+key\n",
    "\n",
    "req = requests.get(url)\n",
    "html = req.text\n",
    "soup = BeautifulSoup(html, \"html.parser\") "
   ]
  },
  {
   "cell_type": "code",
   "execution_count": 2,
   "id": "35dd591a",
   "metadata": {
    "ExecuteTime": {
     "end_time": "2021-08-23T10:39:33.040522Z",
     "start_time": "2021-08-23T10:39:33.017486Z"
    }
   },
   "outputs": [
    {
     "data": {
      "text/plain": [
       "{\n",
       "   \"results\" : [\n",
       "      {\n",
       "         \"address_components\" : [\n",
       "            {\n",
       "               \"long_name\" : \"Cheonan-si\",\n",
       "               \"short_name\" : \"Cheonan-si\",\n",
       "               \"types\" : [ \"locality\", \"political\" ]\n",
       "            },\n",
       "            {\n",
       "               \"long_name\" : \"Chungcheongnam-do\",\n",
       "               \"short_name\" : \"Chungcheongnam-do\",\n",
       "               \"types\" : [ \"administrative_area_level_1\", \"political\" ]\n",
       "            },\n",
       "            {\n",
       "               \"long_name\" : \"South Korea\",\n",
       "               \"short_name\" : \"KR\",\n",
       "               \"types\" : [ \"country\", \"political\" ]\n",
       "            }\n",
       "         ],\n",
       "         \"formatted_address\" : \"Cheonan-si, Chungcheongnam-do, South Korea\",\n",
       "         \"geometry\" : {\n",
       "            \"bounds\" : {\n",
       "               \"northeast\" : {\n",
       "                  \"lat\" : 36.9733765,\n",
       "                  \"lng\" : 127.4204848\n",
       "               },\n",
       "               \"southwest\" : {\n",
       "                  \"lat\" : 36.6205419,\n",
       "                  \"lng\" : 127.0097552\n",
       "               }\n",
       "            },\n",
       "            \"location\" : {\n",
       "               \"lat\" : 36.815129,\n",
       "               \"lng\" : 127.1138939\n",
       "            },\n",
       "            \"location_type\" : \"APPROXIMATE\",\n",
       "            \"viewport\" : {\n",
       "               \"northeast\" : {\n",
       "                  \"lat\" : 36.9733765,\n",
       "                  \"lng\" : 127.4204848\n",
       "               },\n",
       "               \"southwest\" : {\n",
       "                  \"lat\" : 36.6205419,\n",
       "                  \"lng\" : 127.0097552\n",
       "               }\n",
       "            }\n",
       "         },\n",
       "         \"place_id\" : \"ChIJ5a7fvhUoezUR1KkLpiWn_fo\",\n",
       "         \"types\" : [ \"locality\", \"political\" ]\n",
       "      }\n",
       "   ],\n",
       "   \"status\" : \"OK\"\n",
       "}"
      ]
     },
     "execution_count": 2,
     "metadata": {},
     "output_type": "execute_result"
    }
   ],
   "source": [
    "soup"
   ]
  },
  {
   "cell_type": "markdown",
   "id": "1bad9685",
   "metadata": {},
   "source": [
    "### 영화관 - mega, cgv, lotte"
   ]
  },
  {
   "cell_type": "code",
   "execution_count": 4,
   "id": "97cbf605",
   "metadata": {
    "ExecuteTime": {
     "end_time": "2021-08-23T10:39:36.030344Z",
     "start_time": "2021-08-23T10:39:36.018377Z"
    }
   },
   "outputs": [],
   "source": [
    "loc_dict = {'영화관':[], 'lat':[], 'lng':[]}\n",
    "\n",
    "mega = ['강남', '강남대로(씨티)', '강동', '군자', '동대문', '마곡', '목동', '상봉', '상암월드컵경기장', '성수', '센트럴', '송파파크하비오', '신촌', '이수', '창동', '코엑스', '홍대', '화곡', 'ARTNINE']\n",
    "mega = ['메가박스 ' + mega[i] for i in range(len(mega))]\n",
    "cgv = ['CGV강남', 'CGV강변', 'CGV건대입구', 'CGV구로', 'CGV대학로', 'CGV동대문', 'CGV등촌', 'CGV명동', 'CGV명동역 씨네라이브러리', 'CGV목동', 'CGV미아', 'CGV불광', 'CGV상봉', 'CGV성신여대입구', 'CGV송파', 'CGV수유', 'CGV신촌아트레온', 'CGV압구정', 'CGV여의도', 'CGV연남', 'CGV영등포', 'CGV왕십리', 'CGV용산아이파크몰', 'CGV중계', 'CGV천호', 'CGV청담씨네시티', 'CGV피카디리1958', 'CGV하계', 'CGV홍대', 'CINE de CHEF 압구정', 'CINE de CHEF 용산아이파크몰']\n",
    "lotte = ['가산디지털', '가양', '강동', '건대입구', '김포공항', '노원', '도곡', '독산', '브로드웨이(신사)', '서울대입구', '수락산', '수유', '신도림', '신림', '에비뉴엘(명동)', '영등포', '용산', '월드타워', '은평(롯데몰)', '장안', '중랑', '청량리', '합정', '홍대입구']\n",
    "lotte = ['롯데시네마 ' + lotte[i] for i in range(len(lotte))] \n",
    "\n",
    "theater = mega + cgv + lotte"
   ]
  },
  {
   "cell_type": "code",
   "execution_count": 6,
   "id": "0f2e7340",
   "metadata": {
    "ExecuteTime": {
     "end_time": "2021-08-23T10:40:25.314494Z",
     "start_time": "2021-08-23T10:39:36.725171Z"
    }
   },
   "outputs": [],
   "source": [
    "import json\n",
    "import requests\n",
    "\n",
    "base_url = \"https://maps.googleapis.com/maps/api/geocode/json?address=\"\n",
    "key = \"&key=구글 api 키\"\n",
    "\n",
    "for i in range(len(theater)):\n",
    "    url = base_url + theater[i] + key\n",
    "    req = requests.get(url)\n",
    "    \n",
    "    data = req.json()\n",
    "    loc_dict['영화관'].append(theater[i])\n",
    "    loc_dict['lat'].append(data['results'][0]['geometry']['location']['lat'])\n",
    "    loc_dict['lng'].append(data['results'][0]['geometry']['location']['lng'])"
   ]
  },
  {
   "cell_type": "code",
   "execution_count": 8,
   "id": "9d9f0b1b",
   "metadata": {
    "ExecuteTime": {
     "end_time": "2021-08-23T10:40:26.583621Z",
     "start_time": "2021-08-23T10:40:25.397709Z"
    }
   },
   "outputs": [
    {
     "data": {
      "text/html": [
       "<div>\n",
       "<style scoped>\n",
       "    .dataframe tbody tr th:only-of-type {\n",
       "        vertical-align: middle;\n",
       "    }\n",
       "\n",
       "    .dataframe tbody tr th {\n",
       "        vertical-align: top;\n",
       "    }\n",
       "\n",
       "    .dataframe thead th {\n",
       "        text-align: right;\n",
       "    }\n",
       "</style>\n",
       "<table border=\"1\" class=\"dataframe\">\n",
       "  <thead>\n",
       "    <tr style=\"text-align: right;\">\n",
       "      <th></th>\n",
       "      <th>영화관</th>\n",
       "      <th>lat</th>\n",
       "      <th>lng</th>\n",
       "    </tr>\n",
       "  </thead>\n",
       "  <tbody>\n",
       "    <tr>\n",
       "      <th>0</th>\n",
       "      <td>메가박스 강남</td>\n",
       "      <td>37.497990</td>\n",
       "      <td>127.026418</td>\n",
       "    </tr>\n",
       "    <tr>\n",
       "      <th>1</th>\n",
       "      <td>메가박스 강남대로(씨티)</td>\n",
       "      <td>37.500356</td>\n",
       "      <td>127.026969</td>\n",
       "    </tr>\n",
       "    <tr>\n",
       "      <th>2</th>\n",
       "      <td>메가박스 강동</td>\n",
       "      <td>37.528405</td>\n",
       "      <td>127.125351</td>\n",
       "    </tr>\n",
       "    <tr>\n",
       "      <th>3</th>\n",
       "      <td>메가박스 군자</td>\n",
       "      <td>37.555716</td>\n",
       "      <td>127.078355</td>\n",
       "    </tr>\n",
       "    <tr>\n",
       "      <th>4</th>\n",
       "      <td>메가박스 동대문</td>\n",
       "      <td>37.566869</td>\n",
       "      <td>127.007578</td>\n",
       "    </tr>\n",
       "    <tr>\n",
       "      <th>...</th>\n",
       "      <td>...</td>\n",
       "      <td>...</td>\n",
       "      <td>...</td>\n",
       "    </tr>\n",
       "    <tr>\n",
       "      <th>69</th>\n",
       "      <td>롯데시네마 장안</td>\n",
       "      <td>37.571872</td>\n",
       "      <td>127.072346</td>\n",
       "    </tr>\n",
       "    <tr>\n",
       "      <th>70</th>\n",
       "      <td>롯데시네마 중랑</td>\n",
       "      <td>37.615038</td>\n",
       "      <td>127.076175</td>\n",
       "    </tr>\n",
       "    <tr>\n",
       "      <th>71</th>\n",
       "      <td>롯데시네마 청량리</td>\n",
       "      <td>37.581010</td>\n",
       "      <td>127.048083</td>\n",
       "    </tr>\n",
       "    <tr>\n",
       "      <th>72</th>\n",
       "      <td>롯데시네마 합정</td>\n",
       "      <td>37.550277</td>\n",
       "      <td>126.913542</td>\n",
       "    </tr>\n",
       "    <tr>\n",
       "      <th>73</th>\n",
       "      <td>롯데시네마 홍대입구</td>\n",
       "      <td>37.557222</td>\n",
       "      <td>126.925000</td>\n",
       "    </tr>\n",
       "  </tbody>\n",
       "</table>\n",
       "<p>74 rows × 3 columns</p>\n",
       "</div>"
      ],
      "text/plain": [
       "              영화관        lat         lng\n",
       "0         메가박스 강남  37.497990  127.026418\n",
       "1   메가박스 강남대로(씨티)  37.500356  127.026969\n",
       "2         메가박스 강동  37.528405  127.125351\n",
       "3         메가박스 군자  37.555716  127.078355\n",
       "4        메가박스 동대문  37.566869  127.007578\n",
       "..            ...        ...         ...\n",
       "69       롯데시네마 장안  37.571872  127.072346\n",
       "70       롯데시네마 중랑  37.615038  127.076175\n",
       "71      롯데시네마 청량리  37.581010  127.048083\n",
       "72       롯데시네마 합정  37.550277  126.913542\n",
       "73     롯데시네마 홍대입구  37.557222  126.925000\n",
       "\n",
       "[74 rows x 3 columns]"
      ]
     },
     "execution_count": 8,
     "metadata": {},
     "output_type": "execute_result"
    }
   ],
   "source": [
    "import pandas as pd\n",
    "df = pd.DataFrame(loc_dict)\n",
    "df"
   ]
  },
  {
   "cell_type": "code",
   "execution_count": 138,
   "id": "5aecb461",
   "metadata": {},
   "outputs": [],
   "source": [
    "df.to_excel('theater_location.xlsx')"
   ]
  },
  {
   "cell_type": "markdown",
   "id": "29c0b184",
   "metadata": {},
   "source": [
    "### 영화관 - 서울시\n",
    "http://data.seoul.go.kr/dataList/OA-16053/S/1/datasetView.do"
   ]
  },
  {
   "cell_type": "code",
   "execution_count": 32,
   "id": "1a456f3e",
   "metadata": {
    "ExecuteTime": {
     "end_time": "2021-08-23T10:56:32.322245Z",
     "start_time": "2021-08-23T10:56:32.244765Z"
    }
   },
   "outputs": [
    {
     "data": {
      "text/html": [
       "<div>\n",
       "<style scoped>\n",
       "    .dataframe tbody tr th:only-of-type {\n",
       "        vertical-align: middle;\n",
       "    }\n",
       "\n",
       "    .dataframe tbody tr th {\n",
       "        vertical-align: top;\n",
       "    }\n",
       "\n",
       "    .dataframe thead th {\n",
       "        text-align: right;\n",
       "    }\n",
       "</style>\n",
       "<table border=\"1\" class=\"dataframe\">\n",
       "  <thead>\n",
       "    <tr style=\"text-align: right;\">\n",
       "      <th></th>\n",
       "      <th>개방자치단체코드</th>\n",
       "      <th>관리번호</th>\n",
       "      <th>인허가일자</th>\n",
       "      <th>인허가취소일자</th>\n",
       "      <th>영업상태코드</th>\n",
       "      <th>영업상태명</th>\n",
       "      <th>상세영업상태코드</th>\n",
       "      <th>상세영업상태명</th>\n",
       "      <th>폐업일자</th>\n",
       "      <th>휴업시작일자</th>\n",
       "      <th>...</th>\n",
       "      <th>음향시설여부</th>\n",
       "      <th>편의시설여부</th>\n",
       "      <th>소방시설여부</th>\n",
       "      <th>총게임기수</th>\n",
       "      <th>기존게임업외업종명</th>\n",
       "      <th>제공게임물명</th>\n",
       "      <th>공연장형태구분명</th>\n",
       "      <th>품목명</th>\n",
       "      <th>최초등록시점</th>\n",
       "      <th>지역구분명</th>\n",
       "    </tr>\n",
       "  </thead>\n",
       "  <tbody>\n",
       "    <tr>\n",
       "      <th>0</th>\n",
       "      <td>3150000</td>\n",
       "      <td>CDFF4220002015000002</td>\n",
       "      <td>20150526</td>\n",
       "      <td>NaN</td>\n",
       "      <td>1</td>\n",
       "      <td>영업/정상</td>\n",
       "      <td>13</td>\n",
       "      <td>영업중</td>\n",
       "      <td>NaN</td>\n",
       "      <td>NaN</td>\n",
       "      <td>...</td>\n",
       "      <td>NaN</td>\n",
       "      <td>NaN</td>\n",
       "      <td>NaN</td>\n",
       "      <td>NaN</td>\n",
       "      <td>NaN</td>\n",
       "      <td>NaN</td>\n",
       "      <td>NaN</td>\n",
       "      <td>NaN</td>\n",
       "      <td>NaN</td>\n",
       "      <td>NaN</td>\n",
       "    </tr>\n",
       "    <tr>\n",
       "      <th>1</th>\n",
       "      <td>3150000</td>\n",
       "      <td>CDFF4220002015000003</td>\n",
       "      <td>20150526</td>\n",
       "      <td>NaN</td>\n",
       "      <td>1</td>\n",
       "      <td>영업/정상</td>\n",
       "      <td>13</td>\n",
       "      <td>영업중</td>\n",
       "      <td>NaN</td>\n",
       "      <td>NaN</td>\n",
       "      <td>...</td>\n",
       "      <td>NaN</td>\n",
       "      <td>NaN</td>\n",
       "      <td>NaN</td>\n",
       "      <td>NaN</td>\n",
       "      <td>NaN</td>\n",
       "      <td>NaN</td>\n",
       "      <td>NaN</td>\n",
       "      <td>NaN</td>\n",
       "      <td>NaN</td>\n",
       "      <td>NaN</td>\n",
       "    </tr>\n",
       "    <tr>\n",
       "      <th>2</th>\n",
       "      <td>3150000</td>\n",
       "      <td>CDFF4220002015000004</td>\n",
       "      <td>20150526</td>\n",
       "      <td>NaN</td>\n",
       "      <td>1</td>\n",
       "      <td>영업/정상</td>\n",
       "      <td>13</td>\n",
       "      <td>영업중</td>\n",
       "      <td>NaN</td>\n",
       "      <td>NaN</td>\n",
       "      <td>...</td>\n",
       "      <td>NaN</td>\n",
       "      <td>NaN</td>\n",
       "      <td>NaN</td>\n",
       "      <td>NaN</td>\n",
       "      <td>NaN</td>\n",
       "      <td>NaN</td>\n",
       "      <td>NaN</td>\n",
       "      <td>NaN</td>\n",
       "      <td>NaN</td>\n",
       "      <td>NaN</td>\n",
       "    </tr>\n",
       "    <tr>\n",
       "      <th>3</th>\n",
       "      <td>3150000</td>\n",
       "      <td>CDFF4220002015000005</td>\n",
       "      <td>20150526</td>\n",
       "      <td>NaN</td>\n",
       "      <td>1</td>\n",
       "      <td>영업/정상</td>\n",
       "      <td>13</td>\n",
       "      <td>영업중</td>\n",
       "      <td>NaN</td>\n",
       "      <td>NaN</td>\n",
       "      <td>...</td>\n",
       "      <td>NaN</td>\n",
       "      <td>NaN</td>\n",
       "      <td>NaN</td>\n",
       "      <td>NaN</td>\n",
       "      <td>NaN</td>\n",
       "      <td>NaN</td>\n",
       "      <td>NaN</td>\n",
       "      <td>NaN</td>\n",
       "      <td>NaN</td>\n",
       "      <td>NaN</td>\n",
       "    </tr>\n",
       "    <tr>\n",
       "      <th>4</th>\n",
       "      <td>3190000</td>\n",
       "      <td>CDFF4220002007000005</td>\n",
       "      <td>20070515</td>\n",
       "      <td>NaN</td>\n",
       "      <td>1</td>\n",
       "      <td>영업/정상</td>\n",
       "      <td>13</td>\n",
       "      <td>영업중</td>\n",
       "      <td>NaN</td>\n",
       "      <td>NaN</td>\n",
       "      <td>...</td>\n",
       "      <td>NaN</td>\n",
       "      <td>NaN</td>\n",
       "      <td>NaN</td>\n",
       "      <td>NaN</td>\n",
       "      <td>NaN</td>\n",
       "      <td>NaN</td>\n",
       "      <td>NaN</td>\n",
       "      <td>NaN</td>\n",
       "      <td>NaN</td>\n",
       "      <td>NaN</td>\n",
       "    </tr>\n",
       "  </tbody>\n",
       "</table>\n",
       "<p>5 rows × 56 columns</p>\n",
       "</div>"
      ],
      "text/plain": [
       "   개방자치단체코드                  관리번호     인허가일자  인허가취소일자  영업상태코드  영업상태명 상세영업상태코드  \\\n",
       "0   3150000  CDFF4220002015000002  20150526      NaN       1  영업/정상       13   \n",
       "1   3150000  CDFF4220002015000003  20150526      NaN       1  영업/정상       13   \n",
       "2   3150000  CDFF4220002015000004  20150526      NaN       1  영업/정상       13   \n",
       "3   3150000  CDFF4220002015000005  20150526      NaN       1  영업/정상       13   \n",
       "4   3190000  CDFF4220002007000005  20070515      NaN       1  영업/정상       13   \n",
       "\n",
       "  상세영업상태명  폐업일자  휴업시작일자  ...  음향시설여부  편의시설여부 소방시설여부  총게임기수  기존게임업외업종명 제공게임물명  \\\n",
       "0     영업중   NaN     NaN  ...     NaN     NaN    NaN    NaN        NaN    NaN   \n",
       "1     영업중   NaN     NaN  ...     NaN     NaN    NaN    NaN        NaN    NaN   \n",
       "2     영업중   NaN     NaN  ...     NaN     NaN    NaN    NaN        NaN    NaN   \n",
       "3     영업중   NaN     NaN  ...     NaN     NaN    NaN    NaN        NaN    NaN   \n",
       "4     영업중   NaN     NaN  ...     NaN     NaN    NaN    NaN        NaN    NaN   \n",
       "\n",
       "  공연장형태구분명  품목명 최초등록시점  지역구분명  \n",
       "0      NaN  NaN    NaN    NaN  \n",
       "1      NaN  NaN    NaN    NaN  \n",
       "2      NaN  NaN    NaN    NaN  \n",
       "3      NaN  NaN    NaN    NaN  \n",
       "4      NaN  NaN    NaN    NaN  \n",
       "\n",
       "[5 rows x 56 columns]"
      ]
     },
     "execution_count": 32,
     "metadata": {},
     "output_type": "execute_result"
    }
   ],
   "source": [
    "movs = pd.read_csv('서울특별시 영화상영관 인허가 정보.csv', engine = 'python')\n",
    "movs.head() "
   ]
  },
  {
   "cell_type": "code",
   "execution_count": 29,
   "id": "1db8e08d",
   "metadata": {
    "ExecuteTime": {
     "end_time": "2021-08-23T10:53:59.415234Z",
     "start_time": "2021-08-23T10:53:59.385651Z"
    }
   },
   "outputs": [
    {
     "name": "stdout",
     "output_type": "stream",
     "text": [
      "<class 'pandas.core.frame.DataFrame'>\n",
      "RangeIndex: 877 entries, 0 to 876\n",
      "Data columns (total 56 columns):\n",
      " #   Column     Non-Null Count  Dtype  \n",
      "---  ------     --------------  -----  \n",
      " 0   개방자치단체코드   877 non-null    int64  \n",
      " 1   관리번호       877 non-null    object \n",
      " 2   인허가일자      877 non-null    int64  \n",
      " 3   인허가취소일자    0 non-null      float64\n",
      " 4   영업상태코드     877 non-null    int64  \n",
      " 5   영업상태명      877 non-null    object \n",
      " 6   상세영업상태코드   877 non-null    object \n",
      " 7   상세영업상태명    863 non-null    object \n",
      " 8   폐업일자       208 non-null    float64\n",
      " 9   휴업시작일자     0 non-null      float64\n",
      " 10  휴업종료일자     0 non-null      float64\n",
      " 11  재개업일자      0 non-null      float64\n",
      " 12  전화번호       604 non-null    object \n",
      " 13  소재지면적      0 non-null      float64\n",
      " 14  소재지우편번호    218 non-null    float64\n",
      " 15  지번주소       877 non-null    object \n",
      " 16  도로명주소      843 non-null    object \n",
      " 17  도로명우편번호    487 non-null    float64\n",
      " 18  사업장명       877 non-null    object \n",
      " 19  최종수정일자     877 non-null    int64  \n",
      " 20  데이터갱신구분    877 non-null    object \n",
      " 21  데이터갱신일자    877 non-null    object \n",
      " 22  업태구분명      0 non-null      float64\n",
      " 23  좌표정보(X)    870 non-null    float64\n",
      " 24  좌표정보(Y)    870 non-null    float64\n",
      " 25  문화체육업종명    490 non-null    object \n",
      " 26  문화사업자구분명   379 non-null    object \n",
      " 27  총층수        269 non-null    float64\n",
      " 28  주변환경명      169 non-null    object \n",
      " 29  제작취급품목내용   0 non-null      float64\n",
      " 30  시설면적       60 non-null     float64\n",
      " 31  지상층수       346 non-null    float64\n",
      " 32  지하층수       327 non-null    float64\n",
      " 33  건물용도명      234 non-null    object \n",
      " 34  통로너비       36 non-null     float64\n",
      " 35  조명시설조도     0 non-null      float64\n",
      " 36  노래방실수      0 non-null      float64\n",
      " 37  청소년실수      0 non-null      float64\n",
      " 38  비상계단여부     0 non-null      float64\n",
      " 39  비상구여부      0 non-null      float64\n",
      " 40  자동환기여부     0 non-null      float64\n",
      " 41  청소년실여부     0 non-null      float64\n",
      " 42  특수조명여부     0 non-null      float64\n",
      " 43  방음시설여부     0 non-null      float64\n",
      " 44  비디오재생기명    0 non-null      float64\n",
      " 45  조명시설유무     0 non-null      float64\n",
      " 46  음향시설여부     0 non-null      float64\n",
      " 47  편의시설여부     0 non-null      float64\n",
      " 48  소방시설여부     0 non-null      float64\n",
      " 49  총게임기수      0 non-null      float64\n",
      " 50  기존게임업외업종명  0 non-null      float64\n",
      " 51  제공게임물명     0 non-null      float64\n",
      " 52  공연장형태구분명   442 non-null    object \n",
      " 53  품목명        0 non-null      float64\n",
      " 54  최초등록시점     490 non-null    float64\n",
      " 55  지역구분명      212 non-null    object \n",
      "dtypes: float64(36), int64(4), object(16)\n",
      "memory usage: 383.8+ KB\n"
     ]
    }
   ],
   "source": [
    "movs.info() "
   ]
  },
  {
   "cell_type": "code",
   "execution_count": 55,
   "id": "44c0323f",
   "metadata": {
    "ExecuteTime": {
     "end_time": "2021-08-23T11:06:51.487044Z",
     "start_time": "2021-08-23T11:06:51.452563Z"
    }
   },
   "outputs": [
    {
     "data": {
      "text/plain": [
       "사업장명\n",
       "(주)강제규필름            1\n",
       "(주)케이엠티브이           1\n",
       "63아이맥스영화관           1\n",
       "CGV  수유 2관          1\n",
       "CGV 강남제1관           1\n",
       "                   ..\n",
       "코엑스지점 더 부티크 프라이빗    1\n",
       "클래식시네마스페이스(주)       2\n",
       "필름포럼 1관             1\n",
       "필름포럼 2관             1\n",
       "허리우드클래식             1\n",
       "Name: 사업장명, Length: 641, dtype: int64"
      ]
     },
     "execution_count": 55,
     "metadata": {},
     "output_type": "execute_result"
    }
   ],
   "source": [
    "영업중 = movs['사업장명'][movs['폐업일자'].isnull()]\n",
    "영업중.groupby(영업중[:-2]).count() "
   ]
  },
  {
   "cell_type": "code",
   "execution_count": 61,
   "id": "efc499c1",
   "metadata": {
    "ExecuteTime": {
     "end_time": "2021-08-23T11:15:32.278515Z",
     "start_time": "2021-08-23T11:15:32.256505Z"
    }
   },
   "outputs": [
    {
     "data": {
      "text/plain": [
       "'메가박스중앙(주) 화곡지점 2관'"
      ]
     },
     "execution_count": 61,
     "metadata": {},
     "output_type": "execute_result"
    }
   ],
   "source": [
    "영업중[0] "
   ]
  },
  {
   "cell_type": "code",
   "execution_count": 82,
   "id": "9093c240",
   "metadata": {
    "ExecuteTime": {
     "end_time": "2021-08-23T11:21:19.929643Z",
     "start_time": "2021-08-23T11:21:19.916067Z"
    }
   },
   "outputs": [
    {
     "data": {
      "text/plain": [
       "'메가박스중앙(주)화곡'"
      ]
     },
     "execution_count": 82,
     "metadata": {},
     "output_type": "execute_result"
    }
   ],
   "source": [
    "import re\n",
    "re.compile(r'[ 0-9관지점+]').sub('', 영업중[0])"
   ]
  },
  {
   "cell_type": "code",
   "execution_count": 100,
   "id": "57dca96f",
   "metadata": {
    "ExecuteTime": {
     "end_time": "2021-08-23T11:26:31.256027Z",
     "start_time": "2021-08-23T11:26:31.243142Z"
    }
   },
   "outputs": [],
   "source": [
    "영업중 = 영업중.reindex(np.arange(len(영업중))) "
   ]
  },
  {
   "cell_type": "code",
   "execution_count": 110,
   "id": "b1651886",
   "metadata": {
    "ExecuteTime": {
     "end_time": "2021-08-23T11:29:29.371861Z",
     "start_time": "2021-08-23T11:29:29.353136Z"
    }
   },
   "outputs": [],
   "source": [
    "for i in range(len(영업중)):\n",
    "    try:\n",
    "        영업중[i] = re.compile(r'[ 0-9관지점+]').sub('', 영업중[i]) \n",
    "    except:\n",
    "        pass"
   ]
  },
  {
   "cell_type": "code",
   "execution_count": 117,
   "id": "6982a967",
   "metadata": {
    "ExecuteTime": {
     "end_time": "2021-08-23T11:33:06.852100Z",
     "start_time": "2021-08-23T11:33:06.830126Z"
    }
   },
   "outputs": [],
   "source": [
    "theater = list(pd.DataFrame(영업중.groupby(영업중).count() ).index) "
   ]
  },
  {
   "cell_type": "code",
   "execution_count": 118,
   "id": "e58d8b3d",
   "metadata": {
    "ExecuteTime": {
     "end_time": "2021-08-23T11:33:11.911032Z",
     "start_time": "2021-08-23T11:33:11.905965Z"
    }
   },
   "outputs": [
    {
     "data": {
      "text/plain": [
       "145"
      ]
     },
     "execution_count": 118,
     "metadata": {},
     "output_type": "execute_result"
    }
   ],
   "source": [
    "len(list(theater) )"
   ]
  },
  {
   "cell_type": "code",
   "execution_count": 128,
   "id": "9d4d1804",
   "metadata": {
    "ExecuteTime": {
     "end_time": "2021-08-23T11:42:10.418954Z",
     "start_time": "2021-08-23T11:40:54.661273Z"
    }
   },
   "outputs": [],
   "source": [
    "loc_dict = {'영화관':[], 'lat':[], 'lng':[]}\n",
    "\n",
    "for i in range(len(theater)):\n",
    "    url = base_url + theater[i] + key\n",
    "    req = requests.get(url)\n",
    "    \n",
    "    data = req.json()\n",
    "    try:\n",
    "        loc_dict['영화관'].append(theater[i])\n",
    "        loc_dict['lat'].append(data['results'][0]['geometry']['location']['lat'])\n",
    "        loc_dict['lng'].append(data['results'][0]['geometry']['location']['lng'])\n",
    "    except: \n",
    "        loc_dict['lat'].append(0)\n",
    "        loc_dict['lng'].append(0) "
   ]
  },
  {
   "cell_type": "code",
   "execution_count": 129,
   "id": "404c9db9",
   "metadata": {
    "ExecuteTime": {
     "end_time": "2021-08-23T11:42:10.523645Z",
     "start_time": "2021-08-23T11:42:10.511676Z"
    }
   },
   "outputs": [
    {
     "data": {
      "text/plain": [
       "(145, 145, 145)"
      ]
     },
     "execution_count": 129,
     "metadata": {},
     "output_type": "execute_result"
    }
   ],
   "source": [
    "len(loc_dict['영화관']), len(loc_dict['lat']), len(loc_dict['lng'])"
   ]
  },
  {
   "cell_type": "code",
   "execution_count": 134,
   "id": "eec09d41",
   "metadata": {
    "ExecuteTime": {
     "end_time": "2021-08-23T11:49:30.951000Z",
     "start_time": "2021-08-23T11:49:30.851020Z"
    }
   },
   "outputs": [],
   "source": [
    "df = pd.DataFrame(loc_dict) \n",
    "df.to_excel('theater_location.xlsx')"
   ]
  },
  {
   "cell_type": "code",
   "execution_count": 133,
   "id": "573ada03",
   "metadata": {
    "ExecuteTime": {
     "end_time": "2021-08-23T11:47:33.215339Z",
     "start_time": "2021-08-23T11:47:33.191404Z"
    }
   },
   "outputs": [
    {
     "data": {
      "text/html": [
       "<div>\n",
       "<style scoped>\n",
       "    .dataframe tbody tr th:only-of-type {\n",
       "        vertical-align: middle;\n",
       "    }\n",
       "\n",
       "    .dataframe tbody tr th {\n",
       "        vertical-align: top;\n",
       "    }\n",
       "\n",
       "    .dataframe thead th {\n",
       "        text-align: right;\n",
       "    }\n",
       "</style>\n",
       "<table border=\"1\" class=\"dataframe\">\n",
       "  <thead>\n",
       "    <tr style=\"text-align: right;\">\n",
       "      <th></th>\n",
       "      <th>영화관</th>\n",
       "      <th>lat</th>\n",
       "      <th>lng</th>\n",
       "      <th>좌표정보(X)</th>\n",
       "      <th>좌표정보(Y)</th>\n",
       "    </tr>\n",
       "  </thead>\n",
       "  <tbody>\n",
       "    <tr>\n",
       "      <th>0</th>\n",
       "      <td>(주)케이엠티브이</td>\n",
       "      <td>37.529402</td>\n",
       "      <td>126.871104</td>\n",
       "      <td>185574.937191</td>\n",
       "      <td>448716.274685</td>\n",
       "    </tr>\n",
       "    <tr>\n",
       "      <th>1</th>\n",
       "      <td>CGV강남제</td>\n",
       "      <td>37.501559</td>\n",
       "      <td>127.026319</td>\n",
       "      <td>185574.937191</td>\n",
       "      <td>448716.274685</td>\n",
       "    </tr>\n",
       "    <tr>\n",
       "      <th>2</th>\n",
       "      <td>CGV강변CINE&amp;FORET</td>\n",
       "      <td>37.534937</td>\n",
       "      <td>127.095709</td>\n",
       "      <td>185574.937191</td>\n",
       "      <td>448716.274685</td>\n",
       "    </tr>\n",
       "    <tr>\n",
       "      <th>3</th>\n",
       "      <td>CGV강변DX</td>\n",
       "      <td>37.485214</td>\n",
       "      <td>127.013629</td>\n",
       "      <td>185574.937191</td>\n",
       "      <td>448716.274685</td>\n",
       "    </tr>\n",
       "    <tr>\n",
       "      <th>4</th>\n",
       "      <td>CGV강변STAR</td>\n",
       "      <td>37.534937</td>\n",
       "      <td>127.095709</td>\n",
       "      <td>198295.843258</td>\n",
       "      <td>442507.699069</td>\n",
       "    </tr>\n",
       "  </tbody>\n",
       "</table>\n",
       "</div>"
      ],
      "text/plain": [
       "               영화관        lat         lng        좌표정보(X)        좌표정보(Y)\n",
       "0        (주)케이엠티브이  37.529402  126.871104  185574.937191  448716.274685\n",
       "1           CGV강남제  37.501559  127.026319  185574.937191  448716.274685\n",
       "2  CGV강변CINE&FORET  37.534937  127.095709  185574.937191  448716.274685\n",
       "3          CGV강변DX  37.485214  127.013629  185574.937191  448716.274685\n",
       "4        CGV강변STAR  37.534937  127.095709  198295.843258  442507.699069"
      ]
     },
     "execution_count": 133,
     "metadata": {},
     "output_type": "execute_result"
    }
   ],
   "source": [
    "df.head() "
   ]
  },
  {
   "cell_type": "markdown",
   "id": "3d2a2959",
   "metadata": {},
   "source": [
    "### 서울시 공원\n",
    "http://data.seoul.go.kr/dataList/OA-394/S/1/datasetView.do"
   ]
  },
  {
   "cell_type": "code",
   "execution_count": 11,
   "id": "ec695f0a",
   "metadata": {
    "ExecuteTime": {
     "end_time": "2021-08-23T10:43:11.863728Z",
     "start_time": "2021-08-23T10:43:11.795050Z"
    }
   },
   "outputs": [
    {
     "data": {
      "text/html": [
       "<div>\n",
       "<style scoped>\n",
       "    .dataframe tbody tr th:only-of-type {\n",
       "        vertical-align: middle;\n",
       "    }\n",
       "\n",
       "    .dataframe tbody tr th {\n",
       "        vertical-align: top;\n",
       "    }\n",
       "\n",
       "    .dataframe thead th {\n",
       "        text-align: right;\n",
       "    }\n",
       "</style>\n",
       "<table border=\"1\" class=\"dataframe\">\n",
       "  <thead>\n",
       "    <tr style=\"text-align: right;\">\n",
       "      <th></th>\n",
       "      <th>연번</th>\n",
       "      <th>공원명</th>\n",
       "      <th>공원개요</th>\n",
       "      <th>면적</th>\n",
       "      <th>개원일</th>\n",
       "      <th>주요시설</th>\n",
       "      <th>주요식물</th>\n",
       "      <th>안내도</th>\n",
       "      <th>오시는길</th>\n",
       "      <th>이용시참고사항</th>\n",
       "      <th>이미지</th>\n",
       "      <th>지역</th>\n",
       "      <th>공원주소</th>\n",
       "      <th>관리부서</th>\n",
       "      <th>전화번호</th>\n",
       "      <th>X좌표(GRS80TM)</th>\n",
       "      <th>Y좌표(GRS80TM)</th>\n",
       "      <th>X좌표(WGS84)</th>\n",
       "      <th>Y좌표(WGS84)</th>\n",
       "      <th>바로가기</th>\n",
       "    </tr>\n",
       "  </thead>\n",
       "  <tbody>\n",
       "    <tr>\n",
       "      <th>0</th>\n",
       "      <td>1</td>\n",
       "      <td>남산도시자연공원</td>\n",
       "      <td>남산공원은 도심에 위치하여 서울시민에게 맑은 공기를 제공하는 자연휴식처이며 산책 꽃...</td>\n",
       "      <td>2896887㎡ 임 야 : 2454140㎡ 녹지대 및 기타시설 : 442747㎡</td>\n",
       "      <td>1968.9.10</td>\n",
       "      <td>기반시설 : 광장 45950㎡ 도로 108530㎡ 산책로 6.7㎞ (북측:3.7㎞/...</td>\n",
       "      <td>소나무 단풍 아카시아 상수리나무 등 191종 2881870주</td>\n",
       "      <td>http://parks.seoul.go.kr/upload/seditorMulti/2...</td>\n",
       "      <td>명동역(남산케이블카 와룡묘 서울애니메이션센터 방면) 도보 명동역 3번출구 → 퍼시픽...</td>\n",
       "      <td>남산공원 차량통행 금지안내 2005년 5월 1일부터 남산공원에 일반승용차 택시 통행...</td>\n",
       "      <td>http://parks.seoul.go.kr/file/info/view.do?fId...</td>\n",
       "      <td>중구</td>\n",
       "      <td>서울특별시 중구 삼일대로 231(예장동)</td>\n",
       "      <td>서울특별시중부푸른도시사업소</td>\n",
       "      <td>02-3783-5900</td>\n",
       "      <td>198364.107</td>\n",
       "      <td>450395.554</td>\n",
       "      <td>126.990377</td>\n",
       "      <td>37.550140</td>\n",
       "      <td>http://parks.seoul.go.kr/template/sub/namsan.do</td>\n",
       "    </tr>\n",
       "    <tr>\n",
       "      <th>1</th>\n",
       "      <td>2</td>\n",
       "      <td>길동생태공원</td>\n",
       "      <td>길동생태공원은 생물의 서식처를 제공하고 종다양성을 증진시키며 자연생태계의 생물들을 ...</td>\n",
       "      <td>80683㎡</td>\n",
       "      <td>1999.5.20</td>\n",
       "      <td>탐방객안내소 야외전시대 관찰대 목재데크 조류관찰대 길동생태문화센터</td>\n",
       "      <td>소나무 보리수 등 64종 31800주 산국 부들 등 138종 192800본</td>\n",
       "      <td>http://parks.seoul.go.kr/template/common/img/p...</td>\n",
       "      <td>NaN</td>\n",
       "      <td>매주 월요일은 휴관입니다 사전예약 후 입장하실 수 있습니다. ▶ 인터넷 예약 바로가...</td>\n",
       "      <td>http://parks.seoul.go.kr/file/info/view.do?fId...</td>\n",
       "      <td>강동구</td>\n",
       "      <td>서울특별시 강동구 천호대로 1291(길동생태공원)</td>\n",
       "      <td>동부공원녹지사업소 길동생태공원</td>\n",
       "      <td>02-489-2770</td>\n",
       "      <td>213554.120</td>\n",
       "      <td>448852.675</td>\n",
       "      <td>127.154779</td>\n",
       "      <td>37.540394</td>\n",
       "      <td>http://parks.seoul.go.kr/template/sub/gildong.do</td>\n",
       "    </tr>\n",
       "    <tr>\n",
       "      <th>2</th>\n",
       "      <td>3</td>\n",
       "      <td>서울대공원</td>\n",
       "      <td>서울대공원은 세계 각국의 야생동물들이 살아 숨 쉬는 서울동물원과 다양한 재미와 즐거...</td>\n",
       "      <td>9132690m²</td>\n",
       "      <td>1984.5.1</td>\n",
       "      <td>동물원 식물원 테마가든(장미원 어린이동물원 피크닉장) 치유숲 산림욕장 캠핑장 국립현...</td>\n",
       "      <td>NaN</td>\n",
       "      <td>NaN</td>\n",
       "      <td>지하철 4호선 대공원역 하차(2번 출구) 도보 15분 정도 문의처 02)500-73...</td>\n",
       "      <td>일반사항 공원을 깨끗하게 이용합니다. 대중교통을 이용해 주세요. 기념물 시설물 풀과...</td>\n",
       "      <td>http://parks.seoul.go.kr/file/info/view.do?fId...</td>\n",
       "      <td>과천시</td>\n",
       "      <td>경기도 과천시 대공원광장로 102</td>\n",
       "      <td>전략기획실</td>\n",
       "      <td>02-500-7032</td>\n",
       "      <td>200994.267</td>\n",
       "      <td>437163.981</td>\n",
       "      <td>127.019847</td>\n",
       "      <td>37.426449</td>\n",
       "      <td>http://grandpark.seoul.go.kr/</td>\n",
       "    </tr>\n",
       "    <tr>\n",
       "      <th>3</th>\n",
       "      <td>4</td>\n",
       "      <td>서울숲</td>\n",
       "      <td>당초 골프장 승마장 등이 있던 뚝섬일대를 주거업무 지역으로 개발할 경우 약 4조원에...</td>\n",
       "      <td>480994㎡</td>\n",
       "      <td>2005.6.18</td>\n",
       "      <td>4개 테마공원: 문화예술공원 자연생태숲 자연체험학습원 습지생태원 주요시설: 가족마당...</td>\n",
       "      <td>수 목 : 소나무 섬잣나무 계수나무 외 95종 415795주 식물원 : 선인장 등 ...</td>\n",
       "      <td>http://parks.seoul.go.kr/template/common/img/p...</td>\n",
       "      <td>NaN</td>\n",
       "      <td>지하철 분당선 서울숲역 3번출구 도보로 약5분 2호선 뚝섬역 8번출구 도보로 약 1...</td>\n",
       "      <td>http://parks.seoul.go.kr/file/info/view.do?fId...</td>\n",
       "      <td>성동구</td>\n",
       "      <td>서울특별시 성동구 뚝섬로 273 (성수동1가)</td>\n",
       "      <td>서울숲 관리사무소</td>\n",
       "      <td>02-460-2905</td>\n",
       "      <td>203695.432</td>\n",
       "      <td>449290.726</td>\n",
       "      <td>127.041798</td>\n",
       "      <td>37.543072</td>\n",
       "      <td>http://parks.seoul.go.kr/template/sub/seoulfor...</td>\n",
       "    </tr>\n",
       "    <tr>\n",
       "      <th>4</th>\n",
       "      <td>5</td>\n",
       "      <td>월드컵공원</td>\n",
       "      <td>월드컵공원은 서울의 서쪽에 위치하여 1978년부터 1993년까지 15년간 서울시민이...</td>\n",
       "      <td>2284085㎡</td>\n",
       "      <td>2002.5.1</td>\n",
       "      <td>평화의 공원 월드컵공원전시관(879㎡) 유니세프광장(2400㎡) 평화광장(5217㎡...</td>\n",
       "      <td>NaN</td>\n",
       "      <td>http://parks.seoul.go.kr/template/common/img/p...</td>\n",
       "      <td>지하철 6호선 월드컵경기장역 하차 → 1번 출구로 나온 후 직진 → 큰길(도로)이 ...</td>\n",
       "      <td>일반사항 공원을 깨끗하게 이용합니다. 대중교통을 이용해 주세요. 기념물 시설물 풀과...</td>\n",
       "      <td>http://parks.seoul.go.kr/file/info/view.do?fId...</td>\n",
       "      <td>마포구</td>\n",
       "      <td>서울특별시 마포구 하늘공원로 84(월드컵공원)</td>\n",
       "      <td>월드컵공원</td>\n",
       "      <td>02-300-5500</td>\n",
       "      <td>190658.070</td>\n",
       "      <td>451598.831</td>\n",
       "      <td>126.878907</td>\n",
       "      <td>37.571805</td>\n",
       "      <td>http://parks.seoul.go.kr/template/sub/worldcup...</td>\n",
       "    </tr>\n",
       "  </tbody>\n",
       "</table>\n",
       "</div>"
      ],
      "text/plain": [
       "   연번       공원명                                               공원개요  \\\n",
       "0   1  남산도시자연공원  남산공원은 도심에 위치하여 서울시민에게 맑은 공기를 제공하는 자연휴식처이며 산책 꽃...   \n",
       "1   2    길동생태공원  길동생태공원은 생물의 서식처를 제공하고 종다양성을 증진시키며 자연생태계의 생물들을 ...   \n",
       "2   3     서울대공원  서울대공원은 세계 각국의 야생동물들이 살아 숨 쉬는 서울동물원과 다양한 재미와 즐거...   \n",
       "3   4       서울숲  당초 골프장 승마장 등이 있던 뚝섬일대를 주거업무 지역으로 개발할 경우 약 4조원에...   \n",
       "4   5     월드컵공원  월드컵공원은 서울의 서쪽에 위치하여 1978년부터 1993년까지 15년간 서울시민이...   \n",
       "\n",
       "                                             면적        개원일  \\\n",
       "0  2896887㎡ 임 야 : 2454140㎡ 녹지대 및 기타시설 : 442747㎡  1968.9.10   \n",
       "1                                        80683㎡  1999.5.20   \n",
       "2                                     9132690m²   1984.5.1   \n",
       "3                                       480994㎡  2005.6.18   \n",
       "4                                      2284085㎡   2002.5.1   \n",
       "\n",
       "                                                주요시설  \\\n",
       "0  기반시설 : 광장 45950㎡ 도로 108530㎡ 산책로 6.7㎞ (북측:3.7㎞/...   \n",
       "1               탐방객안내소 야외전시대 관찰대 목재데크 조류관찰대 길동생태문화센터   \n",
       "2  동물원 식물원 테마가든(장미원 어린이동물원 피크닉장) 치유숲 산림욕장 캠핑장 국립현...   \n",
       "3  4개 테마공원: 문화예술공원 자연생태숲 자연체험학습원 습지생태원 주요시설: 가족마당...   \n",
       "4  평화의 공원 월드컵공원전시관(879㎡) 유니세프광장(2400㎡) 평화광장(5217㎡...   \n",
       "\n",
       "                                                주요식물  \\\n",
       "0                  소나무 단풍 아카시아 상수리나무 등 191종 2881870주   \n",
       "1          소나무 보리수 등 64종 31800주 산국 부들 등 138종 192800본   \n",
       "2                                                NaN   \n",
       "3  수 목 : 소나무 섬잣나무 계수나무 외 95종 415795주 식물원 : 선인장 등 ...   \n",
       "4                                                NaN   \n",
       "\n",
       "                                                 안내도  \\\n",
       "0  http://parks.seoul.go.kr/upload/seditorMulti/2...   \n",
       "1  http://parks.seoul.go.kr/template/common/img/p...   \n",
       "2                                                NaN   \n",
       "3  http://parks.seoul.go.kr/template/common/img/p...   \n",
       "4  http://parks.seoul.go.kr/template/common/img/p...   \n",
       "\n",
       "                                                오시는길  \\\n",
       "0  명동역(남산케이블카 와룡묘 서울애니메이션센터 방면) 도보 명동역 3번출구 → 퍼시픽...   \n",
       "1                                                NaN   \n",
       "2  지하철 4호선 대공원역 하차(2번 출구) 도보 15분 정도 문의처 02)500-73...   \n",
       "3                                                NaN   \n",
       "4  지하철 6호선 월드컵경기장역 하차 → 1번 출구로 나온 후 직진 → 큰길(도로)이 ...   \n",
       "\n",
       "                                             이용시참고사항  \\\n",
       "0  남산공원 차량통행 금지안내 2005년 5월 1일부터 남산공원에 일반승용차 택시 통행...   \n",
       "1  매주 월요일은 휴관입니다 사전예약 후 입장하실 수 있습니다. ▶ 인터넷 예약 바로가...   \n",
       "2  일반사항 공원을 깨끗하게 이용합니다. 대중교통을 이용해 주세요. 기념물 시설물 풀과...   \n",
       "3  지하철 분당선 서울숲역 3번출구 도보로 약5분 2호선 뚝섬역 8번출구 도보로 약 1...   \n",
       "4  일반사항 공원을 깨끗하게 이용합니다. 대중교통을 이용해 주세요. 기념물 시설물 풀과...   \n",
       "\n",
       "                                                 이미지   지역  \\\n",
       "0  http://parks.seoul.go.kr/file/info/view.do?fId...   중구   \n",
       "1  http://parks.seoul.go.kr/file/info/view.do?fId...  강동구   \n",
       "2  http://parks.seoul.go.kr/file/info/view.do?fId...  과천시   \n",
       "3  http://parks.seoul.go.kr/file/info/view.do?fId...  성동구   \n",
       "4  http://parks.seoul.go.kr/file/info/view.do?fId...  마포구   \n",
       "\n",
       "                           공원주소              관리부서          전화번호  X좌표(GRS80TM)  \\\n",
       "0        서울특별시 중구 삼일대로 231(예장동)    서울특별시중부푸른도시사업소  02-3783-5900    198364.107   \n",
       "1  서울특별시 강동구 천호대로 1291(길동생태공원)   동부공원녹지사업소 길동생태공원   02-489-2770    213554.120   \n",
       "2            경기도 과천시 대공원광장로 102             전략기획실   02-500-7032    200994.267   \n",
       "3    서울특별시 성동구 뚝섬로 273 (성수동1가)          서울숲 관리사무소  02-460-2905     203695.432   \n",
       "4     서울특별시 마포구 하늘공원로 84(월드컵공원)             월드컵공원   02-300-5500    190658.070   \n",
       "\n",
       "   Y좌표(GRS80TM)  X좌표(WGS84)  Y좌표(WGS84)  \\\n",
       "0    450395.554  126.990377   37.550140   \n",
       "1    448852.675  127.154779   37.540394   \n",
       "2    437163.981  127.019847   37.426449   \n",
       "3    449290.726  127.041798   37.543072   \n",
       "4    451598.831  126.878907   37.571805   \n",
       "\n",
       "                                                바로가기  \n",
       "0    http://parks.seoul.go.kr/template/sub/namsan.do  \n",
       "1   http://parks.seoul.go.kr/template/sub/gildong.do  \n",
       "2                      http://grandpark.seoul.go.kr/  \n",
       "3  http://parks.seoul.go.kr/template/sub/seoulfor...  \n",
       "4  http://parks.seoul.go.kr/template/sub/worldcup...  "
      ]
     },
     "execution_count": 11,
     "metadata": {},
     "output_type": "execute_result"
    }
   ],
   "source": [
    "p = pd.read_csv('서울시 주요 공원현황.csv', engine = 'python')\n",
    "p.head() "
   ]
  },
  {
   "cell_type": "code",
   "execution_count": 13,
   "id": "338d8718",
   "metadata": {
    "ExecuteTime": {
     "end_time": "2021-08-23T10:44:43.940499Z",
     "start_time": "2021-08-23T10:44:43.932521Z"
    }
   },
   "outputs": [],
   "source": [
    "name = p['공원명']"
   ]
  },
  {
   "cell_type": "code",
   "execution_count": 17,
   "id": "da528f0f",
   "metadata": {
    "ExecuteTime": {
     "end_time": "2021-08-23T10:45:45.645447Z",
     "start_time": "2021-08-23T10:45:45.049120Z"
    }
   },
   "outputs": [
    {
     "data": {
      "text/plain": [
       "{'results': [{'address_components': [{'long_name': 'Gildong Ecological Park',\n",
       "     'short_name': 'Gildong Ecological Park',\n",
       "     'types': ['establishment', 'park', 'point_of_interest']},\n",
       "    {'long_name': '산7-3', 'short_name': '산7-3', 'types': ['premise']},\n",
       "    {'long_name': 'Gil-dong',\n",
       "     'short_name': 'Gil-dong',\n",
       "     'types': ['political', 'sublocality', 'sublocality_level_2']},\n",
       "    {'long_name': 'Gangdong-gu',\n",
       "     'short_name': 'Gangdong-gu',\n",
       "     'types': ['political', 'sublocality', 'sublocality_level_1']},\n",
       "    {'long_name': 'Seoul',\n",
       "     'short_name': 'Seoul',\n",
       "     'types': ['administrative_area_level_1', 'political']},\n",
       "    {'long_name': 'South Korea',\n",
       "     'short_name': 'KR',\n",
       "     'types': ['country', 'political']},\n",
       "    {'long_name': '134-010',\n",
       "     'short_name': '134-010',\n",
       "     'types': ['postal_code']}],\n",
       "   'formatted_address': 'Gildong Ecological Park, 산7-3 Gil-dong, Gangdong-gu, Seoul, South Korea',\n",
       "   'geometry': {'location': {'lat': 37.5410211, 'lng': 127.1562098},\n",
       "    'location_type': 'ROOFTOP',\n",
       "    'viewport': {'northeast': {'lat': 37.5423700802915,\n",
       "      'lng': 127.1575587802915},\n",
       "     'southwest': {'lat': 37.53967211970851, 'lng': 127.1548608197085}}},\n",
       "   'place_id': 'ChIJVYThirixfDUR5U67bM64SyY',\n",
       "   'plus_code': {'compound_code': 'G5R4+CF Seoul, South Korea',\n",
       "    'global_code': '8Q99G5R4+CF'},\n",
       "   'types': ['establishment', 'park', 'point_of_interest']}],\n",
       " 'status': 'OK'}"
      ]
     },
     "execution_count": 17,
     "metadata": {},
     "output_type": "execute_result"
    }
   ],
   "source": [
    "url = base_url + name[1] + key\n",
    "req = requests.get(url)\n",
    "data = req.json()\n",
    "data"
   ]
  },
  {
   "cell_type": "code",
   "execution_count": 16,
   "id": "88d7b1a0",
   "metadata": {
    "ExecuteTime": {
     "end_time": "2021-08-23T10:45:36.535771Z",
     "start_time": "2021-08-23T10:45:36.516822Z"
    }
   },
   "outputs": [
    {
     "data": {
      "text/plain": [
       "34.063811"
      ]
     },
     "execution_count": 16,
     "metadata": {},
     "output_type": "execute_result"
    }
   ],
   "source": [
    "data['results'][0]['geometry']['location']['lat'] "
   ]
  },
  {
   "cell_type": "code",
   "execution_count": 19,
   "id": "046a5bf6",
   "metadata": {
    "ExecuteTime": {
     "end_time": "2021-08-23T10:48:26.790174Z",
     "start_time": "2021-08-23T10:47:01.663679Z"
    }
   },
   "outputs": [],
   "source": [
    "park_dict = {'공원명': [], 'lat': [], 'lng': []}\n",
    "\n",
    "for i in range(len(name)):\n",
    "    url = base_url + name[i] + key\n",
    "    req = requests.get(url)\n",
    "    \n",
    "    data = req.json()\n",
    "    park_dict['공원명'].append(name[i])\n",
    "    park_dict['lat'].append(data['results'][0]['geometry']['location']['lat'])\n",
    "    park_dict['lng'].append(data['results'][0]['geometry']['location']['lng'])"
   ]
  },
  {
   "cell_type": "code",
   "execution_count": 23,
   "id": "4681d5b5",
   "metadata": {
    "ExecuteTime": {
     "end_time": "2021-08-23T10:49:25.953761Z",
     "start_time": "2021-08-23T10:49:25.933250Z"
    }
   },
   "outputs": [
    {
     "data": {
      "text/html": [
       "<div>\n",
       "<style scoped>\n",
       "    .dataframe tbody tr th:only-of-type {\n",
       "        vertical-align: middle;\n",
       "    }\n",
       "\n",
       "    .dataframe tbody tr th {\n",
       "        vertical-align: top;\n",
       "    }\n",
       "\n",
       "    .dataframe thead th {\n",
       "        text-align: right;\n",
       "    }\n",
       "</style>\n",
       "<table border=\"1\" class=\"dataframe\">\n",
       "  <thead>\n",
       "    <tr style=\"text-align: right;\">\n",
       "      <th></th>\n",
       "      <th>공원명</th>\n",
       "      <th>lat</th>\n",
       "      <th>lng</th>\n",
       "    </tr>\n",
       "  </thead>\n",
       "  <tbody>\n",
       "    <tr>\n",
       "      <th>0</th>\n",
       "      <td>남산도시자연공원</td>\n",
       "      <td>34.063811</td>\n",
       "      <td>-118.300907</td>\n",
       "    </tr>\n",
       "    <tr>\n",
       "      <th>1</th>\n",
       "      <td>길동생태공원</td>\n",
       "      <td>37.541021</td>\n",
       "      <td>127.156210</td>\n",
       "    </tr>\n",
       "    <tr>\n",
       "      <th>2</th>\n",
       "      <td>서울대공원</td>\n",
       "      <td>37.427525</td>\n",
       "      <td>127.017025</td>\n",
       "    </tr>\n",
       "    <tr>\n",
       "      <th>3</th>\n",
       "      <td>서울숲</td>\n",
       "      <td>37.544388</td>\n",
       "      <td>127.037442</td>\n",
       "    </tr>\n",
       "    <tr>\n",
       "      <th>4</th>\n",
       "      <td>월드컵공원</td>\n",
       "      <td>37.564239</td>\n",
       "      <td>126.895933</td>\n",
       "    </tr>\n",
       "  </tbody>\n",
       "</table>\n",
       "</div>"
      ],
      "text/plain": [
       "        공원명        lat         lng\n",
       "0  남산도시자연공원  34.063811 -118.300907\n",
       "1    길동생태공원  37.541021  127.156210\n",
       "2     서울대공원  37.427525  127.017025\n",
       "3       서울숲  37.544388  127.037442\n",
       "4     월드컵공원  37.564239  126.895933"
      ]
     },
     "execution_count": 23,
     "metadata": {},
     "output_type": "execute_result"
    }
   ],
   "source": [
    "parks = pd.DataFrame(park_dict)\n",
    "parks.head() \n",
    "#parks.to_excel('park location.xlsx')"
   ]
  },
  {
   "cell_type": "code",
   "execution_count": 25,
   "id": "5cab68ff",
   "metadata": {
    "ExecuteTime": {
     "end_time": "2021-08-23T10:51:22.336955Z",
     "start_time": "2021-08-23T10:51:22.310939Z"
    }
   },
   "outputs": [
    {
     "data": {
      "text/html": [
       "<div>\n",
       "<style scoped>\n",
       "    .dataframe tbody tr th:only-of-type {\n",
       "        vertical-align: middle;\n",
       "    }\n",
       "\n",
       "    .dataframe tbody tr th {\n",
       "        vertical-align: top;\n",
       "    }\n",
       "\n",
       "    .dataframe thead th {\n",
       "        text-align: right;\n",
       "    }\n",
       "</style>\n",
       "<table border=\"1\" class=\"dataframe\">\n",
       "  <thead>\n",
       "    <tr style=\"text-align: right;\">\n",
       "      <th></th>\n",
       "      <th>공원명</th>\n",
       "      <th>lat</th>\n",
       "      <th>lng</th>\n",
       "      <th>X좌표(WGS84)</th>\n",
       "      <th>Y좌표(WGS84)</th>\n",
       "    </tr>\n",
       "  </thead>\n",
       "  <tbody>\n",
       "    <tr>\n",
       "      <th>0</th>\n",
       "      <td>남산도시자연공원</td>\n",
       "      <td>34.063811</td>\n",
       "      <td>-118.300907</td>\n",
       "      <td>126.990377</td>\n",
       "      <td>37.550140</td>\n",
       "    </tr>\n",
       "    <tr>\n",
       "      <th>1</th>\n",
       "      <td>길동생태공원</td>\n",
       "      <td>37.541021</td>\n",
       "      <td>127.156210</td>\n",
       "      <td>127.154779</td>\n",
       "      <td>37.540394</td>\n",
       "    </tr>\n",
       "    <tr>\n",
       "      <th>2</th>\n",
       "      <td>서울대공원</td>\n",
       "      <td>37.427525</td>\n",
       "      <td>127.017025</td>\n",
       "      <td>127.019847</td>\n",
       "      <td>37.426449</td>\n",
       "    </tr>\n",
       "    <tr>\n",
       "      <th>3</th>\n",
       "      <td>서울숲</td>\n",
       "      <td>37.544388</td>\n",
       "      <td>127.037442</td>\n",
       "      <td>127.041798</td>\n",
       "      <td>37.543072</td>\n",
       "    </tr>\n",
       "    <tr>\n",
       "      <th>4</th>\n",
       "      <td>월드컵공원</td>\n",
       "      <td>37.564239</td>\n",
       "      <td>126.895933</td>\n",
       "      <td>126.878907</td>\n",
       "      <td>37.571805</td>\n",
       "    </tr>\n",
       "  </tbody>\n",
       "</table>\n",
       "</div>"
      ],
      "text/plain": [
       "        공원명        lat         lng  X좌표(WGS84)  Y좌표(WGS84)\n",
       "0  남산도시자연공원  34.063811 -118.300907  126.990377   37.550140\n",
       "1    길동생태공원  37.541021  127.156210  127.154779   37.540394\n",
       "2     서울대공원  37.427525  127.017025  127.019847   37.426449\n",
       "3       서울숲  37.544388  127.037442  127.041798   37.543072\n",
       "4     월드컵공원  37.564239  126.895933  126.878907   37.571805"
      ]
     },
     "execution_count": 25,
     "metadata": {},
     "output_type": "execute_result"
    }
   ],
   "source": [
    "parks = pd.concat([parks, p['X좌표(WGS84)'], p['Y좌표(WGS84)'] ], axis = 1) \n",
    "parks.head() "
   ]
  },
  {
   "cell_type": "code",
   "execution_count": 27,
   "id": "8c93d5a8",
   "metadata": {
    "ExecuteTime": {
     "end_time": "2021-08-23T10:51:47.051769Z",
     "start_time": "2021-08-23T10:51:46.761374Z"
    }
   },
   "outputs": [],
   "source": [
    "parks.to_excel('park location.xlsx')"
   ]
  },
  {
   "cell_type": "code",
   "execution_count": null,
   "id": "f4ec30a9",
   "metadata": {},
   "outputs": [],
   "source": []
  }
 ],
 "metadata": {
  "kernelspec": {
   "display_name": "Python 3",
   "language": "python",
   "name": "python3"
  },
  "language_info": {
   "codemirror_mode": {
    "name": "ipython",
    "version": 3
   },
   "file_extension": ".py",
   "mimetype": "text/x-python",
   "name": "python",
   "nbconvert_exporter": "python",
   "pygments_lexer": "ipython3",
   "version": "3.8.8"
  },
  "toc": {
   "base_numbering": 1,
   "nav_menu": {},
   "number_sections": true,
   "sideBar": true,
   "skip_h1_title": false,
   "title_cell": "Table of Contents",
   "title_sidebar": "Contents",
   "toc_cell": false,
   "toc_position": {},
   "toc_section_display": true,
   "toc_window_display": false
  },
  "varInspector": {
   "cols": {
    "lenName": 16,
    "lenType": 16,
    "lenVar": 40
   },
   "kernels_config": {
    "python": {
     "delete_cmd_postfix": "",
     "delete_cmd_prefix": "del ",
     "library": "var_list.py",
     "varRefreshCmd": "print(var_dic_list())"
    },
    "r": {
     "delete_cmd_postfix": ") ",
     "delete_cmd_prefix": "rm(",
     "library": "var_list.r",
     "varRefreshCmd": "cat(var_dic_list()) "
    }
   },
   "types_to_exclude": [
    "module",
    "function",
    "builtin_function_or_method",
    "instance",
    "_Feature"
   ],
   "window_display": false
  }
 },
 "nbformat": 4,
 "nbformat_minor": 5
}
